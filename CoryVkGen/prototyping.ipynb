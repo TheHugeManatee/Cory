{
 "cells": [
  {
   "cell_type": "code",
   "execution_count": 1,
   "metadata": {},
   "outputs": [],
   "source": [
    "import xml.etree.ElementTree as ET\n",
    "from cvkg.flextglutils import *"
   ]
  },
  {
   "cell_type": "code",
   "execution_count": 2,
   "metadata": {},
   "outputs": [],
   "source": [
    "tree = ET.parse('c:/tmp/vk.xml')\n",
    "registry = tree.getroot()\n",
    "\n",
    "tags_node = registry.find('tags')\n",
    "types_node = registry.find('types')\n",
    "enum_nodes = registry.findall('enums')\n",
    "feature_nodes = registry.findall('feature')\n",
    "commands_node = registry.find('commands')"
   ]
  },
  {
   "cell_type": "code",
   "execution_count": 3,
   "metadata": {},
   "outputs": [
    {
     "data": {
      "text/plain": [
       "{'comment': 'Vulkan type definitions'}"
      ]
     },
     "execution_count": 3,
     "metadata": {},
     "output_type": "execute_result"
    }
   ],
   "source": [
    "types_node.attrib"
   ]
  },
  {
   "cell_type": "code",
   "execution_count": 4,
   "metadata": {},
   "outputs": [],
   "source": [
    "VkGeometryTrianglesNV = types_node[1000]"
   ]
  },
  {
   "cell_type": "code",
   "execution_count": 5,
   "metadata": {},
   "outputs": [],
   "source": [
    "def node_text(node: ET.Element):\n",
    "    if node.text is not None:\n",
    "        return node.text\n",
    "    return ''.join([node_text(c) for c in node])"
   ]
  },
  {
   "cell_type": "code",
   "execution_count": 64,
   "metadata": {},
   "outputs": [
    {
     "name": "stdout",
     "output_type": "stream",
     "text": [
      "Starting to parse 'c:/tmp/vk.v1.2.203.xml':\n",
      "1508 Types found\n",
      "510 commands found\n",
      "215 Enums found\n",
      "===== Summary =====\n",
      "Types:     1508\n",
      "Commands:  510\n",
      "Enums:     215\n",
      "\n",
      "=== Parsed 'c:/tmp/vk.v1.2.203.xml' in  121.0 ms ===\n"
     ]
    }
   ],
   "source": [
    "from cvkg import SpecParser\n",
    "\n",
    "parser = SpecParser(\"c:/tmp/vk.v1.2.203.xml\")"
   ]
  },
  {
   "cell_type": "code",
   "execution_count": 65,
   "metadata": {},
   "outputs": [
    {
     "name": "stdout",
     "output_type": "stream",
     "text": [
      "[enum] VkResult\n",
      "[enum] VkFramebufferCreateFlagBits\n",
      "[struct] VkImageFormatListCreateInfo\n",
      "  -  sType: VkStructureType\n",
      "  - ?pNext: const void*\n",
      "  - ?viewFormatCount: uint32_t\n",
      "  -  pViewFormats: const VkFormat*\n",
      "[enum] VkColorSpaceKHR\n",
      "[enum] VkDriverIdKHR --> VkDriverId\n",
      "[bitmask] VkSamplerCreateFlags --> VkFlags\n"
     ]
    }
   ],
   "source": [
    "print(parser.types['VkResult'])\n",
    "print(parser.types['VkFramebufferCreateFlagBits'])\n",
    "print(parser.types['VkImageFormatListCreateInfo'])\n",
    "print(parser.types['VkColorSpaceKHR'])\n",
    "print(parser.types['VkDriverIdKHR'])\n",
    "print(parser.types['VkSamplerCreateFlags'])\n"
   ]
  },
  {
   "cell_type": "code",
   "execution_count": 66,
   "metadata": {},
   "outputs": [
    {
     "name": "stdout",
     "output_type": "stream",
     "text": [
      "[command] vkCreateInstance(...) -> VkResult\n",
      "  -  pCreateInfo: const VkInstanceCreateInfo*\n",
      "  - ?pAllocator: const VkAllocationCallbacks*\n",
      "  -  pInstance: VkInstance\n",
      "[command] vkCmdDispatch(...) -> void\n",
      "  -  commandBuffer: VkCommandBuffer\n",
      "  -  groupCountX: uint32_t\n",
      "  -  groupCountY: uint32_t\n",
      "  -  groupCountZ: uint32_t\n",
      "[command] vkCmdSetDiscardRectangleEXT(...) -> void\n",
      "  -  commandBuffer: VkCommandBuffer\n",
      "  -  firstDiscardRectangle: uint32_t\n",
      "  -  discardRectangleCount: uint32_t\n",
      "  -  pDiscardRectangles: const VkRect2D*\n",
      "[command] vkGetImageMemoryRequirements2(...) -> void\n",
      "  -  device: VkDevice\n",
      "  -  pInfo: const VkImageMemoryRequirementsInfo2*\n",
      "  -  pMemoryRequirements: VkMemoryRequirements2\n"
     ]
    }
   ],
   "source": [
    "print(parser.commands['vkCreateInstance'])\n",
    "print(parser.commands['vkCmdDispatch'])\n",
    "print(parser.commands['vkCmdSetDiscardRectangleEXT'])\n",
    "print(parser.commands['vkGetImageMemoryRequirements2'])"
   ]
  },
  {
   "cell_type": "code",
   "execution_count": 67,
   "metadata": {},
   "outputs": [
    {
     "name": "stdout",
     "output_type": "stream",
     "text": [
      "[command] vkCreateImage(...) -> VkResult\n",
      "  -  device: VkDevice\n",
      "  -  pCreateInfo: const VkImageCreateInfo*\n",
      "  - ?pAllocator: const VkAllocationCallbacks*\n",
      "  -  pImage: VkImage\n",
      "[struct] VkImageCreateInfo\n",
      "  -  sType: VkStructureType\n",
      "  - ?pNext: const void*\n",
      "  - ?flags: VkImageCreateFlags\n",
      "  -  imageType: VkImageType\n",
      "  -  format: VkFormat\n",
      "  -  extent: VkExtent3D\n",
      "  -  mipLevels: uint32_t\n",
      "  -  arrayLayers: uint32_t\n",
      "  -  samples: VkSampleCountFlagBits\n",
      "  -  tiling: VkImageTiling\n",
      "  -  usage: VkImageUsageFlags\n",
      "  -  sharingMode: VkSharingMode\n",
      "  - ?queueFamilyIndexCount: uint32_t\n",
      "  -  pQueueFamilyIndices: const uint32_t*\n",
      "  -  initialLayout: VkImageLayout\n"
     ]
    }
   ],
   "source": [
    "print(parser.commands['vkCreateImage'])\n",
    "print(parser.types['VkImageCreateInfo'])"
   ]
  },
  {
   "cell_type": "markdown",
   "metadata": {},
   "source": [
    "# Consistency check of the parsed data"
   ]
  },
  {
   "cell_type": "code",
   "execution_count": 68,
   "metadata": {},
   "outputs": [],
   "source": [
    "from cvkg.Types import *"
   ]
  },
  {
   "cell_type": "code",
   "execution_count": 69,
   "metadata": {},
   "outputs": [
    {
     "data": {
      "text/plain": [
       "[[enum] VkQueryPoolCreateFlagBits,\n",
       " [enum] VkInstanceCreateFlagBits,\n",
       " [enum] VkDeviceCreateFlagBits]"
      ]
     },
     "metadata": {},
     "output_type": "display_data"
    },
    {
     "data": {
      "text/plain": [
       "[]"
      ]
     },
     "metadata": {},
     "output_type": "display_data"
    }
   ],
   "source": [
    "# list enums that are missing a definition of their values\n",
    "# alias enums are expected to not have values.\n",
    "undefined_enums = [t for t in parser.types.values() if t.category == 'enum' and not t.alias and t.name not in parser.enums.keys()]\n",
    "display(undefined_enums)\n",
    "def unresolved_types(paramsOrMembers: List[Tuple[Parameter,Member]])->List[str]:\n",
    "    unresolved = []\n",
    "    for p in paramsOrMembers:\n",
    "        if p.type not in parser.types:\n",
    "            unresolved.append(p.type)\n",
    "    return unresolved\n",
    "# list types with undefined member types\n",
    "types_with_undefined_members = [t for t in parser.types.values() if len(unresolved_types(t.members)) > 0]\n",
    "display(types_with_undefined_members)"
   ]
  },
  {
   "cell_type": "code",
   "execution_count": 70,
   "metadata": {},
   "outputs": [
    {
     "data": {
      "text/plain": [
       "[]"
      ]
     },
     "metadata": {},
     "output_type": "display_data"
    }
   ],
   "source": [
    "# list types with undefined member types\n",
    "\n",
    "def unresolved_types(paramsOrMembers: List[Tuple[Parameter,Member]])->List[str]:\n",
    "    unresolved = []\n",
    "    for p in paramsOrMembers:\n",
    "        if p.type not in parser.types:\n",
    "            unresolved.append(p.type)\n",
    "    return unresolved\n",
    "\n",
    "types_with_undefined_members = [t for t in parser.types.values() if len(unresolved_types(t.members)) > 0]\n",
    "display(types_with_undefined_members)"
   ]
  },
  {
   "cell_type": "code",
   "execution_count": 71,
   "metadata": {},
   "outputs": [
    {
     "data": {
      "text/plain": [
       "[]"
      ]
     },
     "metadata": {},
     "output_type": "display_data"
    }
   ],
   "source": [
    "# list commands with undefined parameter types\n",
    "commands_with_undefined_parameters = [c for c in parser.commands.values() if not c.alias and len(unresolved_types(c.params)) > 0]\n",
    "display(commands_with_undefined_parameters)"
   ]
  },
  {
   "cell_type": "code",
   "execution_count": 72,
   "metadata": {},
   "outputs": [
    {
     "name": "stdout",
     "output_type": "stream",
     "text": [
      "144 vkCmd commands\n"
     ]
    },
    {
     "data": {
      "text/plain": [
       "[]"
      ]
     },
     "execution_count": 72,
     "metadata": {},
     "output_type": "execute_result"
    }
   ],
   "source": [
    "# do all `vkCmd` commands have a commandBuffer as a first argument?\n",
    "vkCmdCommands = [c for c in parser.commands.values() if c.name.startswith('vkCmd') and not c.alias]\n",
    "print(f\"{len(vkCmdCommands)} vkCmd commands\")\n",
    "[c for c in vkCmdCommands if len(c.params) == 0 or c.params[0].type != 'VkCommandBuffer']"
   ]
  },
  {
   "cell_type": "code",
   "execution_count": 61,
   "metadata": {},
   "outputs": [
    {
     "data": {
      "text/plain": [
       "119"
      ]
     },
     "execution_count": 61,
     "metadata": {},
     "output_type": "execute_result"
    }
   ],
   "source": []
  },
  {
   "cell_type": "code",
   "execution_count": 78,
   "metadata": {},
   "outputs": [
    {
     "data": {
      "text/plain": [
       "[]"
      ]
     },
     "execution_count": 78,
     "metadata": {},
     "output_type": "execute_result"
    }
   ],
   "source": [
    "[c.name for c in parser.commands.values() if not c.alias and c.name.startswith == 'VkVideo']"
   ]
  },
  {
   "cell_type": "code",
   "execution_count": null,
   "metadata": {},
   "outputs": [],
   "source": []
  }
 ],
 "metadata": {
  "interpreter": {
   "hash": "e3468c20d2673481a3134d32a9beada20431ceb006ac16f66533ee0597681cde"
  },
  "kernelspec": {
   "display_name": "Python 3.10.1 64-bit ('.cvkg-env': venv)",
   "language": "python",
   "name": "python3"
  },
  "language_info": {
   "codemirror_mode": {
    "name": "ipython",
    "version": 3
   },
   "file_extension": ".py",
   "mimetype": "text/x-python",
   "name": "python",
   "nbconvert_exporter": "python",
   "pygments_lexer": "ipython3",
   "version": "3.10.1"
  },
  "orig_nbformat": 4
 },
 "nbformat": 4,
 "nbformat_minor": 2
}

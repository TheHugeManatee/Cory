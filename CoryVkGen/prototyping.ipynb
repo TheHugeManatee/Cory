{
 "cells": [
  {
   "cell_type": "code",
   "execution_count": 1,
   "metadata": {},
   "outputs": [],
   "source": [
    "import xml.etree.ElementTree as ET\n",
    "from cvkg.flextglutils import *"
   ]
  },
  {
   "cell_type": "code",
   "execution_count": 2,
   "metadata": {},
   "outputs": [],
   "source": [
    "tree = ET.parse('c:/tmp/vk.xml')\n",
    "registry = tree.getroot()\n",
    "\n",
    "tags_node = registry.find('tags')\n",
    "types_node = registry.find('types')\n",
    "enum_nodes = registry.findall('enums')\n",
    "feature_nodes = registry.findall('feature')\n",
    "commands_node = registry.find('commands')"
   ]
  },
  {
   "cell_type": "code",
   "execution_count": 3,
   "metadata": {},
   "outputs": [
    {
     "data": {
      "text/plain": [
       "{'comment': 'Vulkan type definitions'}"
      ]
     },
     "execution_count": 3,
     "metadata": {},
     "output_type": "execute_result"
    }
   ],
   "source": [
    "types_node.attrib"
   ]
  },
  {
   "cell_type": "code",
   "execution_count": 4,
   "metadata": {},
   "outputs": [],
   "source": [
    "VkGeometryTrianglesNV = types_node[1000]"
   ]
  },
  {
   "cell_type": "code",
   "execution_count": 5,
   "metadata": {},
   "outputs": [],
   "source": [
    "def node_text(node: ET.Element):\n",
    "    if node.text is not None:\n",
    "        return node.text\n",
    "    return ''.join([node_text(c) for c in node])"
   ]
  },
  {
   "cell_type": "code",
   "execution_count": 6,
   "metadata": {},
   "outputs": [
    {
     "name": "stdout",
     "output_type": "stream",
     "text": [
      "VkStructureType\n",
      "--> sType\n",
      "     VkStructureType sType\n",
      "void\n",
      "--> pNext\n",
      "     const void*                pNext\n",
      "VkBuffer\n",
      "--> vertexData\n",
      "     VkBuffer   vertexData\n",
      "VkDeviceSize\n",
      "--> vertexOffset\n",
      "     VkDeviceSize               vertexOffset\n",
      "uint32_t\n",
      "--> vertexCount\n",
      "     uint32_t                   vertexCount\n",
      "VkDeviceSize\n",
      "--> vertexStride\n",
      "     VkDeviceSize               vertexStride\n",
      "VkFormat\n",
      "--> vertexFormat\n",
      "     VkFormat                   vertexFormat\n",
      "VkBuffer\n",
      "--> indexData\n",
      "     VkBuffer   indexData\n",
      "VkDeviceSize\n",
      "--> indexOffset\n",
      "     VkDeviceSize               indexOffset\n",
      "uint32_t\n",
      "--> indexCount\n",
      "     uint32_t                   indexCount\n",
      "VkIndexType\n",
      "--> indexType\n",
      "     VkIndexType                indexType\n",
      "VkBuffer\n",
      "--> transformData\n",
      "     VkBuffer   transformData\n",
      "VkDeviceSize\n",
      "--> transformOffset\n",
      "     VkDeviceSize               transformOffset\n"
     ]
    }
   ],
   "source": [
    "for mem_n in VkGeometryTrianglesNV.findall('member'):\n",
    "    print(mem_n.find('type').text)\n",
    "    print(\"-->\", mem_n.find('name').text)\n",
    "    print(\"    \", extract_text(mem_n))\n"
   ]
  },
  {
   "cell_type": "code",
   "execution_count": null,
   "metadata": {},
   "outputs": [],
   "source": []
  },
  {
   "cell_type": "code",
   "execution_count": null,
   "metadata": {},
   "outputs": [],
   "source": []
  }
 ],
 "metadata": {
  "interpreter": {
   "hash": "e3468c20d2673481a3134d32a9beada20431ceb006ac16f66533ee0597681cde"
  },
  "kernelspec": {
   "display_name": "Python 3.10.1 64-bit ('.cvkg-env': venv)",
   "language": "python",
   "name": "python3"
  },
  "language_info": {
   "codemirror_mode": {
    "name": "ipython",
    "version": 3
   },
   "file_extension": ".py",
   "mimetype": "text/x-python",
   "name": "python",
   "nbconvert_exporter": "python",
   "pygments_lexer": "ipython3",
   "version": "3.10.1"
  },
  "orig_nbformat": 4
 },
 "nbformat": 4,
 "nbformat_minor": 2
}

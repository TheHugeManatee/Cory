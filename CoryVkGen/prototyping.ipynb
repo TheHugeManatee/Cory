{
 "cells": [
  {
   "cell_type": "code",
   "execution_count": 1,
   "metadata": {},
   "outputs": [],
   "source": [
    "import xml.etree.ElementTree as ET\n",
    "from cvkg.flextglutils import *"
   ]
  },
  {
   "cell_type": "code",
   "execution_count": 2,
   "metadata": {},
   "outputs": [],
   "source": [
    "tree = ET.parse('c:/tmp/vk.xml')\n",
    "registry = tree.getroot()\n",
    "\n",
    "tags_node = registry.find('tags')\n",
    "types_node = registry.find('types')\n",
    "enum_nodes = registry.findall('enums')\n",
    "feature_nodes = registry.findall('feature')\n",
    "extension_nodes = registry.find('extensions')\n",
    "commands_node = registry.find('commands')"
   ]
  },
  {
   "cell_type": "code",
   "execution_count": 3,
   "metadata": {},
   "outputs": [
    {
     "data": {
      "text/plain": [
       "{'comment': 'Vulkan type definitions'}"
      ]
     },
     "execution_count": 3,
     "metadata": {},
     "output_type": "execute_result"
    }
   ],
   "source": [
    "types_node.attrib"
   ]
  },
  {
   "cell_type": "code",
   "execution_count": 4,
   "metadata": {},
   "outputs": [],
   "source": [
    "VkGeometryTrianglesNV = types_node[1000]"
   ]
  },
  {
   "cell_type": "code",
   "execution_count": 5,
   "metadata": {},
   "outputs": [],
   "source": [
    "def node_text(node: ET.Element):\n",
    "    if node.text is not None:\n",
    "        return node.text\n",
    "    return ''.join([node_text(c) for c in node])"
   ]
  },
  {
   "cell_type": "code",
   "execution_count": 6,
   "metadata": {},
   "outputs": [],
   "source": [
    "%load_ext autoreload\n",
    "%autoreload 2"
   ]
  },
  {
   "cell_type": "code",
   "execution_count": 7,
   "metadata": {},
   "outputs": [
    {
     "name": "stdout",
     "output_type": "stream",
     "text": [
      "Starting to parse 'c:/tmp/vk.v1.2.203.xml':\n",
      "1508 Types found\n",
      "510 commands found\n",
      "215 Enums found\n",
      "Parsing feature level VK_VERSION_1_0\n",
      "  Header boilerplate\n",
      "  Fundamental types used by many commands and structures\n",
      "  These types are part of the API, though not directly used in API commands or data structures\n",
      "  API version macros\n",
      "  API constants\n",
      "   <enum> VK_ATTACHMENT_UNUSED\n",
      "    -->not found\n",
      "   <enum> VK_FALSE\n",
      "    -->not found\n",
      "   <enum> VK_LOD_CLAMP_NONE\n",
      "    -->not found\n",
      "   <enum> VK_QUEUE_FAMILY_IGNORED\n",
      "    -->not found\n",
      "   <enum> VK_REMAINING_ARRAY_LAYERS\n",
      "    -->not found\n",
      "   <enum> VK_REMAINING_MIP_LEVELS\n",
      "    -->not found\n",
      "   <enum> VK_SUBPASS_EXTERNAL\n",
      "    -->not found\n",
      "   <enum> VK_TRUE\n",
      "    -->not found\n",
      "   <enum> VK_WHOLE_SIZE\n",
      "    -->not found\n",
      "  Device initialization\n",
      "  Device commands\n",
      "  Extension discovery commands\n",
      "  Layer discovery commands\n",
      "  Queue commands\n",
      "  Memory commands\n",
      "  Memory management API commands\n",
      "  Sparse resource memory management API commands\n",
      "  Fence commands\n",
      "  Queue semaphore commands\n",
      "  Event commands\n",
      "  Query commands\n",
      "  Buffer commands\n",
      "  Buffer view commands\n",
      "  Image commands\n",
      "  Image view commands\n",
      "  Shader commands\n",
      "  Pipeline Cache commands\n",
      "  Pipeline commands\n",
      "  Pipeline layout commands\n",
      "  Sampler commands\n",
      "  Descriptor set commands\n",
      "  Pass commands\n",
      "  Command pool commands\n",
      "  Command buffer commands\n",
      "  Command buffer building commands\n",
      "Parsing feature level VK_VERSION_1_1\n",
      "Found <require> node: {}\n",
      "  Device Initialization\n",
      "  Promoted from VK_KHR_relaxed_block_layout, which has no API\n",
      "  Promoted from VK_KHR_storage_buffer_storage_class, which has no API\n",
      "  Originally based on VK_KHR_subgroup (extension 94), but the actual enum block used was, incorrectly, that of extension 95\n",
      "  Promoted from VK_KHR_bind_memory2\n",
      "  Promoted from VK_KHR_16bit_storage\n",
      "  Promoted from VK_KHR_dedicated_allocation\n",
      "  Promoted from VK_KHR_device_group\n",
      "No idea what to do with this: <require> {'comment': 'Promoted from VK_KHR_device_group'}\n",
      "No idea what to do with this: <require> {'comment': 'Promoted from VK_KHR_device_group'}\n",
      "  Promoted from VK_KHR_device_group + VK_KHR_bind_memory2\n",
      "  Promoted from VK_KHR_device_group_creation\n",
      "   <enum> VK_MAX_DEVICE_GROUP_SIZE\n",
      "    -->not found\n",
      "  Promoted from VK_KHR_get_memory_requirements2\n",
      "  Promoted from VK_KHR_get_physical_device_properties2\n",
      "  Promoted from VK_KHR_maintenance1\n",
      "No idea what to do with this: <require> {'comment': 'Promoted from VK_KHR_maintenance1'}\n",
      "  Promoted from VK_KHR_maintenance2\n",
      "  Promoted from VK_KHR_multiview\n",
      "  Promoted from VK_KHR_variable_pointers\n",
      "  Originally based on VK_KHR_protected_memory (extension 146), which was never published; thus the mystifying large value= numbers below. These are not aliased since they were not actually promoted from an extension.\n",
      "  Promoted from VK_KHR_sampler_ycbcr_conversion\n",
      "No idea what to do with this: <require> {'comment': 'Promoted from VK_KHR_sampler_ycbcr_conversion'}\n",
      "  Promoted from VK_KHR_descriptor_update_template\n",
      "  Promoted from VK_KHR_external_memory_capabilities\n",
      "   <enum> VK_LUID_SIZE\n",
      "    -->not found\n",
      "  Promoted from VK_KHR_external_memory\n",
      "   <enum> VK_QUEUE_FAMILY_EXTERNAL\n",
      "    -->not found\n",
      "  Promoted from VK_KHR_external_fence_capabilities\n",
      "  Promoted from VK_KHR_external_fence\n",
      "  Promoted from VK_KHR_external_semaphore\n",
      "  Promoted from VK_KHR_external_semaphore_capabilities\n",
      "  Promoted from VK_KHR_maintenance3\n",
      "  Promoted from VK_KHR_shader_draw_parameters, with a feature support query added\n",
      "===== Summary =====\n",
      "Types:     1508\n",
      "Commands:  510\n",
      "Enums:     215\n",
      "\n",
      "=== Parsed 'c:/tmp/vk.v1.2.203.xml' in  139.0 ms ===\n"
     ]
    }
   ],
   "source": [
    "from cvkg import SpecParser\n",
    "\n",
    "parser = SpecParser(\"c:/tmp/vk.v1.2.203.xml\")"
   ]
  },
  {
   "cell_type": "code",
   "execution_count": 10,
   "metadata": {},
   "outputs": [
    {
     "data": {
      "text/plain": [
       "{'VkStructureType': [enum] VkStructureType\n",
       "   - VK_STRUCTURE_TYPE_APPLICATION_INFO: 0\n",
       "   - VK_STRUCTURE_TYPE_INSTANCE_CREATE_INFO: 1\n",
       "   - VK_STRUCTURE_TYPE_DEVICE_QUEUE_CREATE_INFO: 2\n",
       "   - VK_STRUCTURE_TYPE_DEVICE_CREATE_INFO: 3\n",
       "   - VK_STRUCTURE_TYPE_SUBMIT_INFO: 4\n",
       "   - VK_STRUCTURE_TYPE_MEMORY_ALLOCATE_INFO: 5\n",
       "   - VK_STRUCTURE_TYPE_MAPPED_MEMORY_RANGE: 6\n",
       "   - VK_STRUCTURE_TYPE_BIND_SPARSE_INFO: 7\n",
       "   - VK_STRUCTURE_TYPE_FENCE_CREATE_INFO: 8\n",
       "   - VK_STRUCTURE_TYPE_SEMAPHORE_CREATE_INFO: 9\n",
       "   - VK_STRUCTURE_TYPE_EVENT_CREATE_INFO: 10\n",
       "   - VK_STRUCTURE_TYPE_QUERY_POOL_CREATE_INFO: 11\n",
       "   - VK_STRUCTURE_TYPE_BUFFER_CREATE_INFO: 12\n",
       "   - VK_STRUCTURE_TYPE_BUFFER_VIEW_CREATE_INFO: 13\n",
       "   - VK_STRUCTURE_TYPE_IMAGE_CREATE_INFO: 14\n",
       "   - VK_STRUCTURE_TYPE_IMAGE_VIEW_CREATE_INFO: 15\n",
       "   - VK_STRUCTURE_TYPE_SHADER_MODULE_CREATE_INFO: 16\n",
       "   - VK_STRUCTURE_TYPE_PIPELINE_CACHE_CREATE_INFO: 17\n",
       "   - VK_STRUCTURE_TYPE_PIPELINE_SHADER_STAGE_CREATE_INFO: 18\n",
       "   - VK_STRUCTURE_TYPE_PIPELINE_VERTEX_INPUT_STATE_CREATE_INFO: 19\n",
       "   - VK_STRUCTURE_TYPE_PIPELINE_INPUT_ASSEMBLY_STATE_CREATE_INFO: 20\n",
       "   - VK_STRUCTURE_TYPE_PIPELINE_TESSELLATION_STATE_CREATE_INFO: 21\n",
       "   - VK_STRUCTURE_TYPE_PIPELINE_VIEWPORT_STATE_CREATE_INFO: 22\n",
       "   - VK_STRUCTURE_TYPE_PIPELINE_RASTERIZATION_STATE_CREATE_INFO: 23\n",
       "   - VK_STRUCTURE_TYPE_PIPELINE_MULTISAMPLE_STATE_CREATE_INFO: 24\n",
       "   - VK_STRUCTURE_TYPE_PIPELINE_DEPTH_STENCIL_STATE_CREATE_INFO: 25\n",
       "   - VK_STRUCTURE_TYPE_PIPELINE_COLOR_BLEND_STATE_CREATE_INFO: 26\n",
       "   - VK_STRUCTURE_TYPE_PIPELINE_DYNAMIC_STATE_CREATE_INFO: 27\n",
       "   - VK_STRUCTURE_TYPE_GRAPHICS_PIPELINE_CREATE_INFO: 28\n",
       "   - VK_STRUCTURE_TYPE_COMPUTE_PIPELINE_CREATE_INFO: 29\n",
       "   - VK_STRUCTURE_TYPE_PIPELINE_LAYOUT_CREATE_INFO: 30\n",
       "   - VK_STRUCTURE_TYPE_SAMPLER_CREATE_INFO: 31\n",
       "   - VK_STRUCTURE_TYPE_DESCRIPTOR_SET_LAYOUT_CREATE_INFO: 32\n",
       "   - VK_STRUCTURE_TYPE_DESCRIPTOR_POOL_CREATE_INFO: 33\n",
       "   - VK_STRUCTURE_TYPE_DESCRIPTOR_SET_ALLOCATE_INFO: 34\n",
       "   - VK_STRUCTURE_TYPE_WRITE_DESCRIPTOR_SET: 35\n",
       "   - VK_STRUCTURE_TYPE_COPY_DESCRIPTOR_SET: 36\n",
       "   - VK_STRUCTURE_TYPE_FRAMEBUFFER_CREATE_INFO: 37\n",
       "   - VK_STRUCTURE_TYPE_RENDER_PASS_CREATE_INFO: 38\n",
       "   - VK_STRUCTURE_TYPE_COMMAND_POOL_CREATE_INFO: 39\n",
       "   - VK_STRUCTURE_TYPE_COMMAND_BUFFER_ALLOCATE_INFO: 40\n",
       "   - VK_STRUCTURE_TYPE_COMMAND_BUFFER_INHERITANCE_INFO: 41\n",
       "   - VK_STRUCTURE_TYPE_COMMAND_BUFFER_BEGIN_INFO: 42\n",
       "   - VK_STRUCTURE_TYPE_RENDER_PASS_BEGIN_INFO: 43\n",
       "   - VK_STRUCTURE_TYPE_BUFFER_MEMORY_BARRIER: 44\n",
       "   - VK_STRUCTURE_TYPE_IMAGE_MEMORY_BARRIER: 45\n",
       "   - VK_STRUCTURE_TYPE_MEMORY_BARRIER: 46\n",
       "   - VK_STRUCTURE_TYPE_LOADER_INSTANCE_CREATE_INFO: 47\n",
       "   - VK_STRUCTURE_TYPE_LOADER_DEVICE_CREATE_INFO: 48\n",
       "   - VK_STRUCTURE_TYPE_PHYSICAL_DEVICE_SHADER_DRAW_PARAMETER_FEATURES: None,\n",
       " 'VkImageCreateFlagBits': [enum] VkImageCreateFlagBits\n",
       "   - VK_IMAGE_CREATE_SPARSE_BINDING_BIT: \n",
       "   - VK_IMAGE_CREATE_SPARSE_RESIDENCY_BIT: \n",
       "   - VK_IMAGE_CREATE_SPARSE_ALIASED_BIT: \n",
       "   - VK_IMAGE_CREATE_MUTABLE_FORMAT_BIT: \n",
       "   - VK_IMAGE_CREATE_CUBE_COMPATIBLE_BIT: \n",
       "   - VK_IMAGE_CREATE_DISJOINT_BIT: None,\n",
       " 'VkPipelineCreateFlagBits': [enum] VkPipelineCreateFlagBits\n",
       "   - VK_PIPELINE_CREATE_DISABLE_OPTIMIZATION_BIT: \n",
       "   - VK_PIPELINE_CREATE_ALLOW_DERIVATIVES_BIT: \n",
       "   - VK_PIPELINE_CREATE_DERIVATIVE_BIT: \n",
       "   - VK_PIPELINE_CREATE_DISPATCH_BASE: None,\n",
       " 'VkDependencyFlagBits': [enum] VkDependencyFlagBits\n",
       "   - VK_DEPENDENCY_BY_REGION_BIT: \n",
       "   - VK_DEPENDENCY_VIEW_LOCAL_BIT: None,\n",
       " 'VkMemoryHeapFlagBits': [enum] VkMemoryHeapFlagBits\n",
       "   - VK_MEMORY_HEAP_DEVICE_LOCAL_BIT: \n",
       "   - VK_MEMORY_HEAP_MULTI_INSTANCE_BIT: None,\n",
       " 'VkResult': [enum] VkResult\n",
       "   - VK_SUCCESS: 0\n",
       "   - VK_NOT_READY: 1\n",
       "   - VK_TIMEOUT: 2\n",
       "   - VK_EVENT_SET: 3\n",
       "   - VK_EVENT_RESET: 4\n",
       "   - VK_INCOMPLETE: 5\n",
       "   - VK_ERROR_OUT_OF_HOST_MEMORY: -1\n",
       "   - VK_ERROR_OUT_OF_DEVICE_MEMORY: -2\n",
       "   - VK_ERROR_INITIALIZATION_FAILED: -3\n",
       "   - VK_ERROR_DEVICE_LOST: -4\n",
       "   - VK_ERROR_MEMORY_MAP_FAILED: -5\n",
       "   - VK_ERROR_LAYER_NOT_PRESENT: -6\n",
       "   - VK_ERROR_EXTENSION_NOT_PRESENT: -7\n",
       "   - VK_ERROR_FEATURE_NOT_PRESENT: -8\n",
       "   - VK_ERROR_INCOMPATIBLE_DRIVER: -9\n",
       "   - VK_ERROR_TOO_MANY_OBJECTS: -10\n",
       "   - VK_ERROR_FORMAT_NOT_SUPPORTED: -11\n",
       "   - VK_ERROR_FRAGMENTED_POOL: -12\n",
       "   - VK_ERROR_UNKNOWN: -13\n",
       "   - VK_ERROR_INVALID_EXTERNAL_HANDLE: None,\n",
       " 'VkFormatFeatureFlagBits': [enum] VkFormatFeatureFlagBits\n",
       "   - VK_FORMAT_FEATURE_SAMPLED_IMAGE_BIT: \n",
       "   - VK_FORMAT_FEATURE_STORAGE_IMAGE_BIT: \n",
       "   - VK_FORMAT_FEATURE_STORAGE_IMAGE_ATOMIC_BIT: \n",
       "   - VK_FORMAT_FEATURE_UNIFORM_TEXEL_BUFFER_BIT: \n",
       "   - VK_FORMAT_FEATURE_STORAGE_TEXEL_BUFFER_BIT: \n",
       "   - VK_FORMAT_FEATURE_STORAGE_TEXEL_BUFFER_ATOMIC_BIT: \n",
       "   - VK_FORMAT_FEATURE_VERTEX_BUFFER_BIT: \n",
       "   - VK_FORMAT_FEATURE_COLOR_ATTACHMENT_BIT: \n",
       "   - VK_FORMAT_FEATURE_COLOR_ATTACHMENT_BLEND_BIT: \n",
       "   - VK_FORMAT_FEATURE_DEPTH_STENCIL_ATTACHMENT_BIT: \n",
       "   - VK_FORMAT_FEATURE_BLIT_SRC_BIT: \n",
       "   - VK_FORMAT_FEATURE_BLIT_DST_BIT: \n",
       "   - VK_FORMAT_FEATURE_SAMPLED_IMAGE_FILTER_LINEAR_BIT: \n",
       "   - VK_FORMAT_FEATURE_COSITED_CHROMA_SAMPLES_BIT: None,\n",
       " 'VkImageLayout': [enum] VkImageLayout\n",
       "   - VK_IMAGE_LAYOUT_UNDEFINED: 0\n",
       "   - VK_IMAGE_LAYOUT_GENERAL: 1\n",
       "   - VK_IMAGE_LAYOUT_COLOR_ATTACHMENT_OPTIMAL: 2\n",
       "   - VK_IMAGE_LAYOUT_DEPTH_STENCIL_ATTACHMENT_OPTIMAL: 3\n",
       "   - VK_IMAGE_LAYOUT_DEPTH_STENCIL_READ_ONLY_OPTIMAL: 4\n",
       "   - VK_IMAGE_LAYOUT_SHADER_READ_ONLY_OPTIMAL: 5\n",
       "   - VK_IMAGE_LAYOUT_TRANSFER_SRC_OPTIMAL: 6\n",
       "   - VK_IMAGE_LAYOUT_TRANSFER_DST_OPTIMAL: 7\n",
       "   - VK_IMAGE_LAYOUT_PREINITIALIZED: 8\n",
       "   - VK_IMAGE_LAYOUT_DEPTH_ATTACHMENT_STENCIL_READ_ONLY_OPTIMAL: None,\n",
       " 'VkQueueFlagBits': [enum] VkQueueFlagBits\n",
       "   - VK_QUEUE_GRAPHICS_BIT: \n",
       "   - VK_QUEUE_COMPUTE_BIT: \n",
       "   - VK_QUEUE_TRANSFER_BIT: \n",
       "   - VK_QUEUE_SPARSE_BINDING_BIT: \n",
       "   - VK_QUEUE_PROTECTED_BIT: None,\n",
       " 'VkDeviceQueueCreateFlagBits': [enum] VkDeviceQueueCreateFlagBits\n",
       "   - VK_DEVICE_QUEUE_CREATE_PROTECTED_BIT: None,\n",
       " 'VkMemoryPropertyFlagBits': [enum] VkMemoryPropertyFlagBits\n",
       "   - VK_MEMORY_PROPERTY_DEVICE_LOCAL_BIT: \n",
       "   - VK_MEMORY_PROPERTY_HOST_VISIBLE_BIT: \n",
       "   - VK_MEMORY_PROPERTY_HOST_COHERENT_BIT: \n",
       "   - VK_MEMORY_PROPERTY_HOST_CACHED_BIT: \n",
       "   - VK_MEMORY_PROPERTY_LAZILY_ALLOCATED_BIT: \n",
       "   - VK_MEMORY_PROPERTY_PROTECTED_BIT: None,\n",
       " 'VkBufferCreateFlagBits': [enum] VkBufferCreateFlagBits\n",
       "   - VK_BUFFER_CREATE_SPARSE_BINDING_BIT: \n",
       "   - VK_BUFFER_CREATE_SPARSE_RESIDENCY_BIT: \n",
       "   - VK_BUFFER_CREATE_SPARSE_ALIASED_BIT: \n",
       "   - VK_BUFFER_CREATE_PROTECTED_BIT: None,\n",
       " 'VkCommandPoolCreateFlagBits': [enum] VkCommandPoolCreateFlagBits\n",
       "   - VK_COMMAND_POOL_CREATE_TRANSIENT_BIT: \n",
       "   - VK_COMMAND_POOL_CREATE_RESET_COMMAND_BUFFER_BIT: \n",
       "   - VK_COMMAND_POOL_CREATE_PROTECTED_BIT: None,\n",
       " 'VkObjectType': [enum] VkObjectType\n",
       "   - VK_OBJECT_TYPE_UNKNOWN: 0\n",
       "   - VK_OBJECT_TYPE_INSTANCE: 1\n",
       "   - VK_OBJECT_TYPE_PHYSICAL_DEVICE: 2\n",
       "   - VK_OBJECT_TYPE_DEVICE: 3\n",
       "   - VK_OBJECT_TYPE_QUEUE: 4\n",
       "   - VK_OBJECT_TYPE_SEMAPHORE: 5\n",
       "   - VK_OBJECT_TYPE_COMMAND_BUFFER: 6\n",
       "   - VK_OBJECT_TYPE_FENCE: 7\n",
       "   - VK_OBJECT_TYPE_DEVICE_MEMORY: 8\n",
       "   - VK_OBJECT_TYPE_BUFFER: 9\n",
       "   - VK_OBJECT_TYPE_IMAGE: 10\n",
       "   - VK_OBJECT_TYPE_EVENT: 11\n",
       "   - VK_OBJECT_TYPE_QUERY_POOL: 12\n",
       "   - VK_OBJECT_TYPE_BUFFER_VIEW: 13\n",
       "   - VK_OBJECT_TYPE_IMAGE_VIEW: 14\n",
       "   - VK_OBJECT_TYPE_SHADER_MODULE: 15\n",
       "   - VK_OBJECT_TYPE_PIPELINE_CACHE: 16\n",
       "   - VK_OBJECT_TYPE_PIPELINE_LAYOUT: 17\n",
       "   - VK_OBJECT_TYPE_RENDER_PASS: 18\n",
       "   - VK_OBJECT_TYPE_PIPELINE: 19\n",
       "   - VK_OBJECT_TYPE_DESCRIPTOR_SET_LAYOUT: 20\n",
       "   - VK_OBJECT_TYPE_SAMPLER: 21\n",
       "   - VK_OBJECT_TYPE_DESCRIPTOR_POOL: 22\n",
       "   - VK_OBJECT_TYPE_DESCRIPTOR_SET: 23\n",
       "   - VK_OBJECT_TYPE_FRAMEBUFFER: 24\n",
       "   - VK_OBJECT_TYPE_COMMAND_POOL: 25\n",
       "   - VK_OBJECT_TYPE_DESCRIPTOR_UPDATE_TEMPLATE: None,\n",
       " 'VkFormat': [enum] VkFormat\n",
       "   - VK_FORMAT_UNDEFINED: 0\n",
       "   - VK_FORMAT_R4G4_UNORM_PACK8: 1\n",
       "   - VK_FORMAT_R4G4B4A4_UNORM_PACK16: 2\n",
       "   - VK_FORMAT_B4G4R4A4_UNORM_PACK16: 3\n",
       "   - VK_FORMAT_R5G6B5_UNORM_PACK16: 4\n",
       "   - VK_FORMAT_B5G6R5_UNORM_PACK16: 5\n",
       "   - VK_FORMAT_R5G5B5A1_UNORM_PACK16: 6\n",
       "   - VK_FORMAT_B5G5R5A1_UNORM_PACK16: 7\n",
       "   - VK_FORMAT_A1R5G5B5_UNORM_PACK16: 8\n",
       "   - VK_FORMAT_R8_UNORM: 9\n",
       "   - VK_FORMAT_R8_SNORM: 10\n",
       "   - VK_FORMAT_R8_USCALED: 11\n",
       "   - VK_FORMAT_R8_SSCALED: 12\n",
       "   - VK_FORMAT_R8_UINT: 13\n",
       "   - VK_FORMAT_R8_SINT: 14\n",
       "   - VK_FORMAT_R8_SRGB: 15\n",
       "   - VK_FORMAT_R8G8_UNORM: 16\n",
       "   - VK_FORMAT_R8G8_SNORM: 17\n",
       "   - VK_FORMAT_R8G8_USCALED: 18\n",
       "   - VK_FORMAT_R8G8_SSCALED: 19\n",
       "   - VK_FORMAT_R8G8_UINT: 20\n",
       "   - VK_FORMAT_R8G8_SINT: 21\n",
       "   - VK_FORMAT_R8G8_SRGB: 22\n",
       "   - VK_FORMAT_R8G8B8_UNORM: 23\n",
       "   - VK_FORMAT_R8G8B8_SNORM: 24\n",
       "   - VK_FORMAT_R8G8B8_USCALED: 25\n",
       "   - VK_FORMAT_R8G8B8_SSCALED: 26\n",
       "   - VK_FORMAT_R8G8B8_UINT: 27\n",
       "   - VK_FORMAT_R8G8B8_SINT: 28\n",
       "   - VK_FORMAT_R8G8B8_SRGB: 29\n",
       "   - VK_FORMAT_B8G8R8_UNORM: 30\n",
       "   - VK_FORMAT_B8G8R8_SNORM: 31\n",
       "   - VK_FORMAT_B8G8R8_USCALED: 32\n",
       "   - VK_FORMAT_B8G8R8_SSCALED: 33\n",
       "   - VK_FORMAT_B8G8R8_UINT: 34\n",
       "   - VK_FORMAT_B8G8R8_SINT: 35\n",
       "   - VK_FORMAT_B8G8R8_SRGB: 36\n",
       "   - VK_FORMAT_R8G8B8A8_UNORM: 37\n",
       "   - VK_FORMAT_R8G8B8A8_SNORM: 38\n",
       "   - VK_FORMAT_R8G8B8A8_USCALED: 39\n",
       "   - VK_FORMAT_R8G8B8A8_SSCALED: 40\n",
       "   - VK_FORMAT_R8G8B8A8_UINT: 41\n",
       "   - VK_FORMAT_R8G8B8A8_SINT: 42\n",
       "   - VK_FORMAT_R8G8B8A8_SRGB: 43\n",
       "   - VK_FORMAT_B8G8R8A8_UNORM: 44\n",
       "   - VK_FORMAT_B8G8R8A8_SNORM: 45\n",
       "   - VK_FORMAT_B8G8R8A8_USCALED: 46\n",
       "   - VK_FORMAT_B8G8R8A8_SSCALED: 47\n",
       "   - VK_FORMAT_B8G8R8A8_UINT: 48\n",
       "   - VK_FORMAT_B8G8R8A8_SINT: 49\n",
       "   - VK_FORMAT_B8G8R8A8_SRGB: 50\n",
       "   - VK_FORMAT_A8B8G8R8_UNORM_PACK32: 51\n",
       "   - VK_FORMAT_A8B8G8R8_SNORM_PACK32: 52\n",
       "   - VK_FORMAT_A8B8G8R8_USCALED_PACK32: 53\n",
       "   - VK_FORMAT_A8B8G8R8_SSCALED_PACK32: 54\n",
       "   - VK_FORMAT_A8B8G8R8_UINT_PACK32: 55\n",
       "   - VK_FORMAT_A8B8G8R8_SINT_PACK32: 56\n",
       "   - VK_FORMAT_A8B8G8R8_SRGB_PACK32: 57\n",
       "   - VK_FORMAT_A2R10G10B10_UNORM_PACK32: 58\n",
       "   - VK_FORMAT_A2R10G10B10_SNORM_PACK32: 59\n",
       "   - VK_FORMAT_A2R10G10B10_USCALED_PACK32: 60\n",
       "   - VK_FORMAT_A2R10G10B10_SSCALED_PACK32: 61\n",
       "   - VK_FORMAT_A2R10G10B10_UINT_PACK32: 62\n",
       "   - VK_FORMAT_A2R10G10B10_SINT_PACK32: 63\n",
       "   - VK_FORMAT_A2B10G10R10_UNORM_PACK32: 64\n",
       "   - VK_FORMAT_A2B10G10R10_SNORM_PACK32: 65\n",
       "   - VK_FORMAT_A2B10G10R10_USCALED_PACK32: 66\n",
       "   - VK_FORMAT_A2B10G10R10_SSCALED_PACK32: 67\n",
       "   - VK_FORMAT_A2B10G10R10_UINT_PACK32: 68\n",
       "   - VK_FORMAT_A2B10G10R10_SINT_PACK32: 69\n",
       "   - VK_FORMAT_R16_UNORM: 70\n",
       "   - VK_FORMAT_R16_SNORM: 71\n",
       "   - VK_FORMAT_R16_USCALED: 72\n",
       "   - VK_FORMAT_R16_SSCALED: 73\n",
       "   - VK_FORMAT_R16_UINT: 74\n",
       "   - VK_FORMAT_R16_SINT: 75\n",
       "   - VK_FORMAT_R16_SFLOAT: 76\n",
       "   - VK_FORMAT_R16G16_UNORM: 77\n",
       "   - VK_FORMAT_R16G16_SNORM: 78\n",
       "   - VK_FORMAT_R16G16_USCALED: 79\n",
       "   - VK_FORMAT_R16G16_SSCALED: 80\n",
       "   - VK_FORMAT_R16G16_UINT: 81\n",
       "   - VK_FORMAT_R16G16_SINT: 82\n",
       "   - VK_FORMAT_R16G16_SFLOAT: 83\n",
       "   - VK_FORMAT_R16G16B16_UNORM: 84\n",
       "   - VK_FORMAT_R16G16B16_SNORM: 85\n",
       "   - VK_FORMAT_R16G16B16_USCALED: 86\n",
       "   - VK_FORMAT_R16G16B16_SSCALED: 87\n",
       "   - VK_FORMAT_R16G16B16_UINT: 88\n",
       "   - VK_FORMAT_R16G16B16_SINT: 89\n",
       "   - VK_FORMAT_R16G16B16_SFLOAT: 90\n",
       "   - VK_FORMAT_R16G16B16A16_UNORM: 91\n",
       "   - VK_FORMAT_R16G16B16A16_SNORM: 92\n",
       "   - VK_FORMAT_R16G16B16A16_USCALED: 93\n",
       "   - VK_FORMAT_R16G16B16A16_SSCALED: 94\n",
       "   - VK_FORMAT_R16G16B16A16_UINT: 95\n",
       "   - VK_FORMAT_R16G16B16A16_SINT: 96\n",
       "   - VK_FORMAT_R16G16B16A16_SFLOAT: 97\n",
       "   - VK_FORMAT_R32_UINT: 98\n",
       "   - VK_FORMAT_R32_SINT: 99\n",
       "   - VK_FORMAT_R32_SFLOAT: 100\n",
       "   - VK_FORMAT_R32G32_UINT: 101\n",
       "   - VK_FORMAT_R32G32_SINT: 102\n",
       "   - VK_FORMAT_R32G32_SFLOAT: 103\n",
       "   - VK_FORMAT_R32G32B32_UINT: 104\n",
       "   - VK_FORMAT_R32G32B32_SINT: 105\n",
       "   - VK_FORMAT_R32G32B32_SFLOAT: 106\n",
       "   - VK_FORMAT_R32G32B32A32_UINT: 107\n",
       "   - VK_FORMAT_R32G32B32A32_SINT: 108\n",
       "   - VK_FORMAT_R32G32B32A32_SFLOAT: 109\n",
       "   - VK_FORMAT_R64_UINT: 110\n",
       "   - VK_FORMAT_R64_SINT: 111\n",
       "   - VK_FORMAT_R64_SFLOAT: 112\n",
       "   - VK_FORMAT_R64G64_UINT: 113\n",
       "   - VK_FORMAT_R64G64_SINT: 114\n",
       "   - VK_FORMAT_R64G64_SFLOAT: 115\n",
       "   - VK_FORMAT_R64G64B64_UINT: 116\n",
       "   - VK_FORMAT_R64G64B64_SINT: 117\n",
       "   - VK_FORMAT_R64G64B64_SFLOAT: 118\n",
       "   - VK_FORMAT_R64G64B64A64_UINT: 119\n",
       "   - VK_FORMAT_R64G64B64A64_SINT: 120\n",
       "   - VK_FORMAT_R64G64B64A64_SFLOAT: 121\n",
       "   - VK_FORMAT_B10G11R11_UFLOAT_PACK32: 122\n",
       "   - VK_FORMAT_E5B9G9R9_UFLOAT_PACK32: 123\n",
       "   - VK_FORMAT_D16_UNORM: 124\n",
       "   - VK_FORMAT_X8_D24_UNORM_PACK32: 125\n",
       "   - VK_FORMAT_D32_SFLOAT: 126\n",
       "   - VK_FORMAT_S8_UINT: 127\n",
       "   - VK_FORMAT_D16_UNORM_S8_UINT: 128\n",
       "   - VK_FORMAT_D24_UNORM_S8_UINT: 129\n",
       "   - VK_FORMAT_D32_SFLOAT_S8_UINT: 130\n",
       "   - VK_FORMAT_BC1_RGB_UNORM_BLOCK: 131\n",
       "   - VK_FORMAT_BC1_RGB_SRGB_BLOCK: 132\n",
       "   - VK_FORMAT_BC1_RGBA_UNORM_BLOCK: 133\n",
       "   - VK_FORMAT_BC1_RGBA_SRGB_BLOCK: 134\n",
       "   - VK_FORMAT_BC2_UNORM_BLOCK: 135\n",
       "   - VK_FORMAT_BC2_SRGB_BLOCK: 136\n",
       "   - VK_FORMAT_BC3_UNORM_BLOCK: 137\n",
       "   - VK_FORMAT_BC3_SRGB_BLOCK: 138\n",
       "   - VK_FORMAT_BC4_UNORM_BLOCK: 139\n",
       "   - VK_FORMAT_BC4_SNORM_BLOCK: 140\n",
       "   - VK_FORMAT_BC5_UNORM_BLOCK: 141\n",
       "   - VK_FORMAT_BC5_SNORM_BLOCK: 142\n",
       "   - VK_FORMAT_BC6H_UFLOAT_BLOCK: 143\n",
       "   - VK_FORMAT_BC6H_SFLOAT_BLOCK: 144\n",
       "   - VK_FORMAT_BC7_UNORM_BLOCK: 145\n",
       "   - VK_FORMAT_BC7_SRGB_BLOCK: 146\n",
       "   - VK_FORMAT_ETC2_R8G8B8_UNORM_BLOCK: 147\n",
       "   - VK_FORMAT_ETC2_R8G8B8_SRGB_BLOCK: 148\n",
       "   - VK_FORMAT_ETC2_R8G8B8A1_UNORM_BLOCK: 149\n",
       "   - VK_FORMAT_ETC2_R8G8B8A1_SRGB_BLOCK: 150\n",
       "   - VK_FORMAT_ETC2_R8G8B8A8_UNORM_BLOCK: 151\n",
       "   - VK_FORMAT_ETC2_R8G8B8A8_SRGB_BLOCK: 152\n",
       "   - VK_FORMAT_EAC_R11_UNORM_BLOCK: 153\n",
       "   - VK_FORMAT_EAC_R11_SNORM_BLOCK: 154\n",
       "   - VK_FORMAT_EAC_R11G11_UNORM_BLOCK: 155\n",
       "   - VK_FORMAT_EAC_R11G11_SNORM_BLOCK: 156\n",
       "   - VK_FORMAT_ASTC_4x4_UNORM_BLOCK: 157\n",
       "   - VK_FORMAT_ASTC_4x4_SRGB_BLOCK: 158\n",
       "   - VK_FORMAT_ASTC_5x4_UNORM_BLOCK: 159\n",
       "   - VK_FORMAT_ASTC_5x4_SRGB_BLOCK: 160\n",
       "   - VK_FORMAT_ASTC_5x5_UNORM_BLOCK: 161\n",
       "   - VK_FORMAT_ASTC_5x5_SRGB_BLOCK: 162\n",
       "   - VK_FORMAT_ASTC_6x5_UNORM_BLOCK: 163\n",
       "   - VK_FORMAT_ASTC_6x5_SRGB_BLOCK: 164\n",
       "   - VK_FORMAT_ASTC_6x6_UNORM_BLOCK: 165\n",
       "   - VK_FORMAT_ASTC_6x6_SRGB_BLOCK: 166\n",
       "   - VK_FORMAT_ASTC_8x5_UNORM_BLOCK: 167\n",
       "   - VK_FORMAT_ASTC_8x5_SRGB_BLOCK: 168\n",
       "   - VK_FORMAT_ASTC_8x6_UNORM_BLOCK: 169\n",
       "   - VK_FORMAT_ASTC_8x6_SRGB_BLOCK: 170\n",
       "   - VK_FORMAT_ASTC_8x8_UNORM_BLOCK: 171\n",
       "   - VK_FORMAT_ASTC_8x8_SRGB_BLOCK: 172\n",
       "   - VK_FORMAT_ASTC_10x5_UNORM_BLOCK: 173\n",
       "   - VK_FORMAT_ASTC_10x5_SRGB_BLOCK: 174\n",
       "   - VK_FORMAT_ASTC_10x6_UNORM_BLOCK: 175\n",
       "   - VK_FORMAT_ASTC_10x6_SRGB_BLOCK: 176\n",
       "   - VK_FORMAT_ASTC_10x8_UNORM_BLOCK: 177\n",
       "   - VK_FORMAT_ASTC_10x8_SRGB_BLOCK: 178\n",
       "   - VK_FORMAT_ASTC_10x10_UNORM_BLOCK: 179\n",
       "   - VK_FORMAT_ASTC_10x10_SRGB_BLOCK: 180\n",
       "   - VK_FORMAT_ASTC_12x10_UNORM_BLOCK: 181\n",
       "   - VK_FORMAT_ASTC_12x10_SRGB_BLOCK: 182\n",
       "   - VK_FORMAT_ASTC_12x12_UNORM_BLOCK: 183\n",
       "   - VK_FORMAT_ASTC_12x12_SRGB_BLOCK: 184\n",
       "   - VK_FORMAT_G16_B16_R16_3PLANE_444_UNORM: None,\n",
       " 'VkImageAspectFlagBits': [enum] VkImageAspectFlagBits\n",
       "   - VK_IMAGE_ASPECT_COLOR_BIT: \n",
       "   - VK_IMAGE_ASPECT_DEPTH_BIT: \n",
       "   - VK_IMAGE_ASPECT_STENCIL_BIT: \n",
       "   - VK_IMAGE_ASPECT_METADATA_BIT: \n",
       "   - VK_IMAGE_ASPECT_PLANE_2_BIT: None}"
      ]
     },
     "execution_count": 10,
     "metadata": {},
     "output_type": "execute_result"
    }
   ],
   "source": [
    "parser.feature_levels['VK_VERSION_1_1'].enums"
   ]
  },
  {
   "cell_type": "code",
   "execution_count": 16,
   "metadata": {},
   "outputs": [],
   "source": [
    "feature_1_0 = parser.features"
   ]
  },
  {
   "cell_type": "code",
   "execution_count": 17,
   "metadata": {},
   "outputs": [],
   "source": [
    "parser.features.enums['abd'] = 1"
   ]
  },
  {
   "cell_type": "code",
   "execution_count": 20,
   "metadata": {},
   "outputs": [],
   "source": [
    "import copy"
   ]
  },
  {
   "cell_type": "code",
   "execution_count": 65,
   "metadata": {},
   "outputs": [
    {
     "name": "stdout",
     "output_type": "stream",
     "text": [
      "[enum] VkResult\n",
      "[enum] VkFramebufferCreateFlagBits\n",
      "[struct] VkImageFormatListCreateInfo\n",
      "  -  sType: VkStructureType\n",
      "  - ?pNext: const void*\n",
      "  - ?viewFormatCount: uint32_t\n",
      "  -  pViewFormats: const VkFormat*\n",
      "[enum] VkColorSpaceKHR\n",
      "[enum] VkDriverIdKHR --> VkDriverId\n",
      "[bitmask] VkSamplerCreateFlags --> VkFlags\n"
     ]
    }
   ],
   "source": [
    "print(parser.types['VkResult'])\n",
    "print(parser.types['VkFramebufferCreateFlagBits'])\n",
    "print(parser.types['VkImageFormatListCreateInfo'])\n",
    "print(parser.types['VkColorSpaceKHR'])\n",
    "print(parser.types['VkDriverIdKHR'])\n",
    "print(parser.types['VkSamplerCreateFlags'])\n"
   ]
  },
  {
   "cell_type": "code",
   "execution_count": 66,
   "metadata": {},
   "outputs": [
    {
     "name": "stdout",
     "output_type": "stream",
     "text": [
      "[command] vkCreateInstance(...) -> VkResult\n",
      "  -  pCreateInfo: const VkInstanceCreateInfo*\n",
      "  - ?pAllocator: const VkAllocationCallbacks*\n",
      "  -  pInstance: VkInstance\n",
      "[command] vkCmdDispatch(...) -> void\n",
      "  -  commandBuffer: VkCommandBuffer\n",
      "  -  groupCountX: uint32_t\n",
      "  -  groupCountY: uint32_t\n",
      "  -  groupCountZ: uint32_t\n",
      "[command] vkCmdSetDiscardRectangleEXT(...) -> void\n",
      "  -  commandBuffer: VkCommandBuffer\n",
      "  -  firstDiscardRectangle: uint32_t\n",
      "  -  discardRectangleCount: uint32_t\n",
      "  -  pDiscardRectangles: const VkRect2D*\n",
      "[command] vkGetImageMemoryRequirements2(...) -> void\n",
      "  -  device: VkDevice\n",
      "  -  pInfo: const VkImageMemoryRequirementsInfo2*\n",
      "  -  pMemoryRequirements: VkMemoryRequirements2\n"
     ]
    }
   ],
   "source": [
    "print(parser.commands['vkCreateInstance'])\n",
    "print(parser.commands['vkCmdDispatch'])\n",
    "print(parser.commands['vkCmdSetDiscardRectangleEXT'])\n",
    "print(parser.commands['vkGetImageMemoryRequirements2'])"
   ]
  },
  {
   "cell_type": "code",
   "execution_count": 67,
   "metadata": {},
   "outputs": [
    {
     "name": "stdout",
     "output_type": "stream",
     "text": [
      "[command] vkCreateImage(...) -> VkResult\n",
      "  -  device: VkDevice\n",
      "  -  pCreateInfo: const VkImageCreateInfo*\n",
      "  - ?pAllocator: const VkAllocationCallbacks*\n",
      "  -  pImage: VkImage\n",
      "[struct] VkImageCreateInfo\n",
      "  -  sType: VkStructureType\n",
      "  - ?pNext: const void*\n",
      "  - ?flags: VkImageCreateFlags\n",
      "  -  imageType: VkImageType\n",
      "  -  format: VkFormat\n",
      "  -  extent: VkExtent3D\n",
      "  -  mipLevels: uint32_t\n",
      "  -  arrayLayers: uint32_t\n",
      "  -  samples: VkSampleCountFlagBits\n",
      "  -  tiling: VkImageTiling\n",
      "  -  usage: VkImageUsageFlags\n",
      "  -  sharingMode: VkSharingMode\n",
      "  - ?queueFamilyIndexCount: uint32_t\n",
      "  -  pQueueFamilyIndices: const uint32_t*\n",
      "  -  initialLayout: VkImageLayout\n"
     ]
    }
   ],
   "source": [
    "print(parser.commands['vkCreateImage'])\n",
    "print(parser.types['VkImageCreateInfo'])"
   ]
  },
  {
   "cell_type": "markdown",
   "metadata": {},
   "source": [
    "# Consistency check of the parsed data"
   ]
  },
  {
   "cell_type": "code",
   "execution_count": 68,
   "metadata": {},
   "outputs": [],
   "source": [
    "from cvkg.Types import *"
   ]
  },
  {
   "cell_type": "code",
   "execution_count": 69,
   "metadata": {},
   "outputs": [
    {
     "data": {
      "text/plain": [
       "[[enum] VkQueryPoolCreateFlagBits,\n",
       " [enum] VkInstanceCreateFlagBits,\n",
       " [enum] VkDeviceCreateFlagBits]"
      ]
     },
     "metadata": {},
     "output_type": "display_data"
    },
    {
     "data": {
      "text/plain": [
       "[]"
      ]
     },
     "metadata": {},
     "output_type": "display_data"
    }
   ],
   "source": [
    "# list enums that are missing a definition of their values\n",
    "# alias enums are expected to not have values.\n",
    "undefined_enums = [t for t in parser.types.values() if t.category == 'enum' and not t.alias and t.name not in parser.enums.keys()]\n",
    "display(undefined_enums)\n",
    "def unresolved_types(paramsOrMembers: List[Tuple[Parameter,Member]])->List[str]:\n",
    "    unresolved = []\n",
    "    for p in paramsOrMembers:\n",
    "        if p.type not in parser.types:\n",
    "            unresolved.append(p.type)\n",
    "    return unresolved\n",
    "# list types with undefined member types\n",
    "types_with_undefined_members = [t for t in parser.types.values() if len(unresolved_types(t.members)) > 0]\n",
    "display(types_with_undefined_members)"
   ]
  },
  {
   "cell_type": "code",
   "execution_count": 70,
   "metadata": {},
   "outputs": [
    {
     "data": {
      "text/plain": [
       "[]"
      ]
     },
     "metadata": {},
     "output_type": "display_data"
    }
   ],
   "source": [
    "# list types with undefined member types\n",
    "\n",
    "def unresolved_types(paramsOrMembers: List[Tuple[Parameter,Member]])->List[str]:\n",
    "    unresolved = []\n",
    "    for p in paramsOrMembers:\n",
    "        if p.type not in parser.types:\n",
    "            unresolved.append(p.type)\n",
    "    return unresolved\n",
    "\n",
    "types_with_undefined_members = [t for t in parser.types.values() if len(unresolved_types(t.members)) > 0]\n",
    "display(types_with_undefined_members)"
   ]
  },
  {
   "cell_type": "code",
   "execution_count": 71,
   "metadata": {},
   "outputs": [
    {
     "data": {
      "text/plain": [
       "[]"
      ]
     },
     "metadata": {},
     "output_type": "display_data"
    }
   ],
   "source": [
    "# list commands with undefined parameter types\n",
    "commands_with_undefined_parameters = [c for c in parser.commands.values() if not c.alias and len(unresolved_types(c.params)) > 0]\n",
    "display(commands_with_undefined_parameters)"
   ]
  },
  {
   "cell_type": "code",
   "execution_count": 72,
   "metadata": {},
   "outputs": [
    {
     "name": "stdout",
     "output_type": "stream",
     "text": [
      "144 vkCmd commands\n"
     ]
    },
    {
     "data": {
      "text/plain": [
       "[]"
      ]
     },
     "execution_count": 72,
     "metadata": {},
     "output_type": "execute_result"
    }
   ],
   "source": [
    "# do all `vkCmd` commands have a commandBuffer as a first argument?\n",
    "vkCmdCommands = [c for c in parser.commands.values() if c.name.startswith('vkCmd') and not c.alias]\n",
    "print(f\"{len(vkCmdCommands)} vkCmd commands\")\n",
    "[c for c in vkCmdCommands if len(c.params) == 0 or c.params[0].type != 'VkCommandBuffer']"
   ]
  },
  {
   "cell_type": "code",
   "execution_count": 75,
   "metadata": {},
   "outputs": [
    {
     "data": {
      "text/plain": [
       "[enum] VkFullScreenExclusiveEXT\n",
       "  - VK_FULL_SCREEN_EXCLUSIVE_DEFAULT_EXT: 0\n",
       "  - VK_FULL_SCREEN_EXCLUSIVE_ALLOWED_EXT: 1\n",
       "  - VK_FULL_SCREEN_EXCLUSIVE_DISALLOWED_EXT: 2\n",
       "  - VK_FULL_SCREEN_EXCLUSIVE_APPLICATION_CONTROLLED_EXT: 3"
      ]
     },
     "execution_count": 75,
     "metadata": {},
     "output_type": "execute_result"
    }
   ],
   "source": [
    "parser.enums['VkFullScreenExclusiveEXT']"
   ]
  },
  {
   "cell_type": "code",
   "execution_count": 78,
   "metadata": {},
   "outputs": [
    {
     "data": {
      "text/plain": [
       "[]"
      ]
     },
     "execution_count": 78,
     "metadata": {},
     "output_type": "execute_result"
    }
   ],
   "source": [
    "[c.name for c in parser.commands.values() if not c.alias and c.name.startswith == 'VkVideo']"
   ]
  },
  {
   "cell_type": "markdown",
   "metadata": {},
   "source": [
    "# Velocity Template generation playground"
   ]
  },
  {
   "cell_type": "code",
   "execution_count": 16,
   "metadata": {},
   "outputs": [
    {
     "name": "stdout",
     "output_type": "stream",
     "text": [
      "Starting to parse 'c:/tmp/vk.v1.2.203.xml':\n",
      "1508 Types found\n",
      "510 commands found\n",
      "215 Enums found\n",
      "===== Summary =====\n",
      "Types:     1508\n",
      "Commands:  510\n",
      "Enums:     215\n",
      "\n",
      "=== Parsed 'c:/tmp/vk.v1.2.203.xml' in  109.0 ms ===\n"
     ]
    }
   ],
   "source": [
    "# load the data model\n",
    "from cvkg import SpecParser\n",
    "\n",
    "parser = SpecParser(\"c:/tmp/vk.v1.2.203.xml\")"
   ]
  },
  {
   "cell_type": "code",
   "execution_count": 30,
   "metadata": {},
   "outputs": [],
   "source": [
    "create_infos = [c for c in parser.types.values() if not c.alias and \"CreateInfo\" in c.name]"
   ]
  },
  {
   "cell_type": "code",
   "execution_count": 63,
   "metadata": {},
   "outputs": [],
   "source": [
    "from airspeed import Template,CachingFileLoader"
   ]
  },
  {
   "cell_type": "code",
   "execution_count": 62,
   "metadata": {},
   "outputs": [
    {
     "name": "stdout",
     "output_type": "stream",
     "text": [
      "\n",
      "struct VkDeviceQueueCreateInfo {\n",
      "\n",
      "    VkStructureType sType{VK_STRUCTURE_TYPE_DEVICE_QUEUE_CREATE_INFO};\n",
      "    void pNext;\n",
      "    VkDeviceQueueCreateFlags flags;\n",
      "    uint32_t queueFamilyIndex;\n",
      "    uint32_t queueCount;\n",
      "    float pQueuePriorities;\n",
      "};\n",
      "\n"
     ]
    }
   ],
   "source": [
    "env = {'create_info': create_infos[0]}\n",
    "t = Template(\"\"\"\n",
    "struct ${create_info.name} {\n",
    "#foreach ( $member in $create_info.members )\n",
    "    #if( $member.values )${member.type} ${member.name}{$member.values};#else${member.type} ${member.name};#end\n",
    "#end\n",
    "\n",
    "};\n",
    "\"\"\")\n",
    "print(t.merge(env))"
   ]
  },
  {
   "cell_type": "code",
   "execution_count": 64,
   "metadata": {},
   "outputs": [
    {
     "name": "stdout",
     "output_type": "stream",
     "text": [
      "struct VkDeviceQueueCreateInfo {\n",
      "\n",
      "    VkStructureType sType{VK_STRUCTURE_TYPE_DEVICE_QUEUE_CREATE_INFO};\n",
      "    void pNext;\n",
      "    VkDeviceQueueCreateFlags flags;\n",
      "    uint32_t queueFamilyIndex;\n",
      "    uint32_t queueCount;\n",
      "    float pQueuePriorities;\n",
      "};\n"
     ]
    }
   ],
   "source": [
    "loader = CachingFileLoader('./cvkg/templates/')\n",
    "template = loader.load_template('CreateInfo.tpl.h')\n",
    "print(template.merge(env))"
   ]
  },
  {
   "cell_type": "code",
   "execution_count": 67,
   "metadata": {},
   "outputs": [
    {
     "name": "stdout",
     "output_type": "stream",
     "text": [
      "\u001b[1;31mInit signature:\u001b[0m \u001b[0mCachingFileLoader\u001b[0m\u001b[1;33m(\u001b[0m\u001b[0mbasedir\u001b[0m\u001b[1;33m,\u001b[0m \u001b[0mdebugging\u001b[0m\u001b[1;33m=\u001b[0m\u001b[1;32mFalse\u001b[0m\u001b[1;33m)\u001b[0m\u001b[1;33m\u001b[0m\u001b[1;33m\u001b[0m\u001b[0m\n",
      "\u001b[1;31mDocstring:\u001b[0m      <no docstring>\n",
      "\u001b[1;31mFile:\u001b[0m           c:\\dev\\cory\\coryvkgen\\.cvkg-env\\lib\\site-packages\\airspeed\\__init__.py\n",
      "\u001b[1;31mType:\u001b[0m           type\n",
      "\u001b[1;31mSubclasses:\u001b[0m     \n"
     ]
    }
   ],
   "source": [
    "?CachingFileLoader"
   ]
  },
  {
   "cell_type": "code",
   "execution_count": 73,
   "metadata": {},
   "outputs": [
    {
     "name": "stdout",
     "output_type": "stream",
     "text": [
      "\n",
      "\n",
      "struct VkDeviceQueueCreateInfo { \\\n",
      "\n",
      "    VkStructureType sType{VK_STRUCTURE_TYPE_DEVICE_QUEUE_CREATE_INFO};\n",
      "    void pNext;\n",
      "    VkDeviceQueueCreateFlags flags;\n",
      "    uint32_t queueFamilyIndex;\n",
      "    uint32_t queueCount;\n",
      "    float pQueuePriorities;\n",
      "};\n",
      "\n",
      "struct VkDeviceCreateInfo { \\\n",
      "\n",
      "    VkStructureType sType{VK_STRUCTURE_TYPE_DEVICE_CREATE_INFO};\n",
      "    void pNext;\n",
      "    VkDeviceCreateFlags flags;\n",
      "    uint32_t queueCreateInfoCount;\n",
      "    VkDeviceQueueCreateInfo pQueueCreateInfos;\n",
      "    uint32_t enabledLayerCount;\n",
      "    char ppEnabledLayerNames;\n",
      "    uint32_t enabledExtensionCount;\n",
      "    char ppEnabledExtensionNames;\n",
      "    VkPhysicalDeviceFeatures pEnabledFeatures;\n",
      "};\n",
      "\n",
      "struct VkInstanceCreateInfo { \\\n",
      "\n",
      "    VkStructureType sType{VK_STRUCTURE_TYPE_INSTANCE_CREATE_INFO};\n",
      "    void pNext;\n",
      "    VkInstanceCreateFlags flags;\n",
      "    VkApplicationInfo pApplicationInfo;\n",
      "    uint32_t enabledLayerCount;\n",
      "    char ppEnabledLayerNames;\n",
      "    uint32_t enabledExtensionCount;\n",
      "    char ppEnabledExtensionNames;\n",
      "};\n",
      "\n"
     ]
    }
   ],
   "source": [
    "env = {'create_infos': create_infos[0:3]}\n",
    "t = Template(\"\"\"\n",
    "#foreach ( $create_info in $create_infos)\n",
    "#parse ( \"CreateInfo.tpl.h\")\n",
    "#end\n",
    "\"\"\")\n",
    "print(t.merge(env, loader))"
   ]
  },
  {
   "cell_type": "code",
   "execution_count": null,
   "metadata": {},
   "outputs": [],
   "source": []
  }
 ],
 "metadata": {
  "interpreter": {
   "hash": "e3468c20d2673481a3134d32a9beada20431ceb006ac16f66533ee0597681cde"
  },
  "kernelspec": {
   "display_name": "Python 3.10.1 64-bit ('.cvkg-env': venv)",
   "language": "python",
   "name": "python3"
  },
  "language_info": {
   "codemirror_mode": {
    "name": "ipython",
    "version": 3
   },
   "file_extension": ".py",
   "mimetype": "text/x-python",
   "name": "python",
   "nbconvert_exporter": "python",
   "pygments_lexer": "ipython3",
   "version": "3.10.1"
  },
  "orig_nbformat": 4
 },
 "nbformat": 4,
 "nbformat_minor": 2
}

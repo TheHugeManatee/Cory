{
 "cells": [
  {
   "cell_type": "code",
   "execution_count": 1,
   "metadata": {},
   "outputs": [],
   "source": [
    "import clang.cindex\n",
    "from collections import namedtuple\n",
    "from typing import *\n",
    "import re"
   ]
  },
  {
   "cell_type": "markdown",
   "metadata": {},
   "source": [
    "## Utils"
   ]
  },
  {
   "cell_type": "code",
   "execution_count": 2,
   "metadata": {},
   "outputs": [],
   "source": [
    "class src_list:          \n",
    "    def __init__(self):\n",
    "        self.cur_indent = 0;\n",
    "        self.src = \"\"\n",
    "        \n",
    "    def __iadd__(self, l:str):\n",
    "        self.src += \" \"*self.cur_indent + l + \"\\n\";\n",
    "        return self\n",
    "    \n",
    "    def __rshift__(self, ind):   self.cur_indent += ind;\n",
    "    def __lshift__(self, ind): self.cur_indent -= ind;\n",
    "\n",
    "    class indent_ctx:\n",
    "        def __init__(self, slist, ind:int):\n",
    "            self.src_list = slist\n",
    "            self.indent = ind\n",
    "        def __enter__(self):\n",
    "            self.src_list >> self.indent\n",
    "        def __exit__(self, *args):\n",
    "            self.src_list << self.indent\n",
    "        \n",
    "    def indent(self, ind:int=4):\n",
    "        return src_list.indent_ctx(self, ind)\n",
    "    \n",
    "    def get(self):\n",
    "        return self.src"
   ]
  },
  {
   "cell_type": "code",
   "execution_count": 3,
   "metadata": {},
   "outputs": [
    {
     "name": "stdout",
     "output_type": "stream",
     "text": [
      "class A {\n",
      "  public:\n",
      "    int a() { return pmember_a; }\n",
      "  private:\n",
      "    int pmember_a;\n",
      "}\n",
      "\n"
     ]
    }
   ],
   "source": [
    "sl = src_list()\n",
    "sl += \"class A {\"\n",
    "with sl.indent(2):\n",
    "    sl += \"public:\"\n",
    "with sl.indent():\n",
    "    sl += \"int a() { return pmember_a; }\"\n",
    "with sl.indent(2):\n",
    "    sl += \"private:\"\n",
    "    with sl.indent(2):\n",
    "        sl += \"int pmember_a;\"\n",
    "sl += \"}\"\n",
    "print(sl.get())"
   ]
  },
  {
   "cell_type": "code",
   "execution_count": 4,
   "metadata": {},
   "outputs": [],
   "source": [
    "# export\n",
    "def enumerate_nodes(node, node_kind:clang.cindex.CursorKind):\n",
    "    def find_nodes(node, node_kind:clang.cindex.CursorKind):\n",
    "        nodes = []\n",
    "        if node.kind == node_kind:\n",
    "            nodes.append(node)\n",
    "        for c in node.get_children():\n",
    "            nodes += find_nodes(c, node_kind)\n",
    "        return nodes\n",
    "    \n",
    "    nodes = find_nodes(node, node_kind)\n",
    "    node_map = {node.spelling: node for node in nodes}\n",
    "    return node_map"
   ]
  },
  {
   "cell_type": "code",
   "execution_count": 5,
   "metadata": {},
   "outputs": [],
   "source": [
    "# export\n",
    "def split_uppercase(s):\n",
    "    return [a for a in re.split(r'([A-Z][a-z]*)', s) if a]\n",
    "\n",
    "def structure_type_name(type_name:str):\n",
    "    parts = split_uppercase(type_name)[1:]\n",
    "    stype_parts = ['vk','structure','type']+parts\n",
    "    return \"_\".join([s.upper() for s in stype_parts])"
   ]
  },
  {
   "cell_type": "code",
   "execution_count": 6,
   "metadata": {},
   "outputs": [
    {
     "name": "stdout",
     "output_type": "stream",
     "text": [
      "Automatic pdb calling has been turned ON\n"
     ]
    }
   ],
   "source": [
    "%pdb on"
   ]
  },
  {
   "cell_type": "code",
   "execution_count": 7,
   "metadata": {},
   "outputs": [],
   "source": [
    "def camel_to_snake(s:str, remove_prefixes=False):\n",
    "    parts = split_uppercase(s)\n",
    "    if remove_prefixes:\n",
    "        while parts[0] in ['p', 'pp']:\n",
    "            parts = parts[1:]\n",
    "    # merge extension suffix\n",
    "    start_suffix_merge = len(parts)\n",
    "    while len(parts[start_suffix_merge-1]) == 1: \n",
    "        start_suffix_merge -= 1\n",
    "    if start_suffix_merge < len(parts):\n",
    "        parts[start_suffix_merge:] = [''.join(parts[start_suffix_merge:])]\n",
    "    return \"_\".join([s.lower() for s in parts])"
   ]
  },
  {
   "cell_type": "code",
   "execution_count": 8,
   "metadata": {},
   "outputs": [
    {
     "data": {
      "text/plain": [
       "('vk_cmd_begin_conditional_rendering_ext', 'queue_family_index_count', 'next')"
      ]
     },
     "execution_count": 8,
     "metadata": {},
     "output_type": "execute_result"
    }
   ],
   "source": [
    "camel_to_snake('vkCmdBeginConditionalRenderingEXT'), camel_to_snake(\"queueFamilyIndexCount\"), camel_to_snake(\"pNext\", True)"
   ]
  },
  {
   "cell_type": "code",
   "execution_count": 9,
   "metadata": {},
   "outputs": [],
   "source": [
    "# export\n",
    "member = namedtuple(\"Member\", [\"type\", \"name\"])\n",
    "def list_members(node)->List[member]:\n",
    "    members = []\n",
    "    for n in node.get_children():\n",
    "        members.append(member(n.type.spelling, n.spelling))\n",
    "    return members"
   ]
  },
  {
   "cell_type": "markdown",
   "metadata": {},
   "source": [
    "### Map between cory and Vulkan types automatically\n",
    "For example, in the automatically generated interfaces we want to use `glm::uvec3` instead of `VkExtent3D`. To define the mapping between the two types, we define bidirectional mappers that encapsulate the code fragment to insert in order to map a variable of one type to the other."
   ]
  },
  {
   "cell_type": "code",
   "execution_count": 10,
   "metadata": {},
   "outputs": [],
   "source": [
    "class type_mapper:\n",
    "    def __init__(self, vk_type, cory_type, v2c, c2v):\n",
    "        self.vk_type = vk_type\n",
    "        self.cory_type = cory_type\n",
    "        self.c2v = c2v\n",
    "        self.v2c = v2c\n",
    "        \n",
    "    def cory_to_vk(self, var_name:str):\n",
    "        return self.c2v.format_map({'var':var_name})\n",
    "    def vk_to_cory(self, var_name:str):\n",
    "        return self.v2c.format_map({'var':var_name})"
   ]
  },
  {
   "cell_type": "code",
   "execution_count": 11,
   "metadata": {},
   "outputs": [],
   "source": [
    "cory_type_mappers = {}\n",
    "vulkan_type_mappers = {}\n",
    "def register_type_mapper(tm:type_mapper):\n",
    "    cory_type_mappers[tm.cory_type] = tm\n",
    "    vulkan_type_mappers[tm.vk_type] = tm\n",
    "def find_vk_mapper(vk_type):\n",
    "    if vk_type in vulkan_type_mappers:\n",
    "        return vulkan_type_mappers[vk_type]\n",
    "    return type_mapper(vk_type, vk_type, \"{var}\", \"{var}\")\n",
    "def find_cory_mapper(cory_type):\n",
    "    if cory_type in cory_type_mappers:\n",
    "        return cory_type_mappers[cory_type]\n",
    "    return type_mapper(cory_type, cory_type, \"{var}\", \"{var}\")"
   ]
  },
  {
   "cell_type": "code",
   "execution_count": 12,
   "metadata": {},
   "outputs": [],
   "source": [
    "register_type_mapper(\n",
    "    type_mapper(\"VkExtent3D\", \"glm::uvec3\", \n",
    "                 \"glm::uvec3{{ {var}.width, {var}.height, {var}.depth }}\",\n",
    "                 \"VkExtent3D{{ {var}.x, {var}.y, {var}.z }}\"\n",
    "                ))"
   ]
  },
  {
   "cell_type": "code",
   "execution_count": 13,
   "metadata": {},
   "outputs": [],
   "source": [
    "register_type_mapper(\n",
    "    type_mapper(\"const char *const *\", \"std::vector<const char*>\", \n",
    "                 \"undefined\",\n",
    "                 \"{var}.data()\"\n",
    "                ))"
   ]
  },
  {
   "cell_type": "markdown",
   "metadata": {},
   "source": [
    "## Parsing vulkan.h"
   ]
  },
  {
   "cell_type": "code",
   "execution_count": 14,
   "metadata": {},
   "outputs": [],
   "source": [
    "index = clang.cindex.Index.create()"
   ]
  },
  {
   "cell_type": "code",
   "execution_count": 17,
   "metadata": {},
   "outputs": [],
   "source": [
    "VULKAN_HEADER_FILE = R\"C:\\Users\\j\\.conan\\data\\vulkan-headers\\1.2.154.0\\_\\_\\package\\5ab84d6acfe1f23c4fae0ab88f26e3a396351ac9\\include\\vulkan\\vulkan_core.h\"\n",
    "#VULKAN_HEADER_FILE = R\"ThirdParty/include/flextVk.h\""
   ]
  },
  {
   "cell_type": "code",
   "execution_count": 18,
   "metadata": {},
   "outputs": [],
   "source": [
    "translation_unit = index.parse(VULKAN_HEADER_FILE)"
   ]
  },
  {
   "cell_type": "code",
   "execution_count": 19,
   "metadata": {},
   "outputs": [
    {
     "data": {
      "text/plain": [
       "<clang.cindex.TranslationUnit at 0x1c02336c6d0>"
      ]
     },
     "execution_count": 19,
     "metadata": {},
     "output_type": "execute_result"
    }
   ],
   "source": [
    "translation_unit"
   ]
  },
  {
   "cell_type": "code",
   "execution_count": 20,
   "metadata": {},
   "outputs": [],
   "source": [
    "vk_structs = enumerate_nodes(translation_unit.cursor, clang.cindex.CursorKind.STRUCT_DECL)\n",
    "vk_enums = enumerate_nodes(translation_unit.cursor, clang.cindex.CursorKind.ENUM_DECL)\n",
    "vk_funcs = enumerate_nodes(translation_unit.cursor, clang.cindex.CursorKind.FUNCTION_DECL)"
   ]
  },
  {
   "cell_type": "code",
   "execution_count": 21,
   "metadata": {},
   "outputs": [],
   "source": [
    "vk_create_info_names = [k for k in vk_structs.keys() if k.find(\"CreateInfo\") >=0]"
   ]
  },
  {
   "cell_type": "code",
   "execution_count": 22,
   "metadata": {},
   "outputs": [],
   "source": [
    "ici_node = vk_structs[\"VkImageCreateInfo\"]"
   ]
  },
  {
   "cell_type": "code",
   "execution_count": 23,
   "metadata": {},
   "outputs": [
    {
     "data": {
      "text/plain": [
       "[Member(type='VkStructureType', name='sType'),\n",
       " Member(type='const void *', name='pNext'),\n",
       " Member(type='VkImageCreateFlags', name='flags'),\n",
       " Member(type='VkImageType', name='imageType'),\n",
       " Member(type='VkFormat', name='format'),\n",
       " Member(type='VkExtent3D', name='extent'),\n",
       " Member(type='uint32_t', name='mipLevels'),\n",
       " Member(type='uint32_t', name='arrayLayers'),\n",
       " Member(type='VkSampleCountFlagBits', name='samples'),\n",
       " Member(type='VkImageTiling', name='tiling'),\n",
       " Member(type='VkImageUsageFlags', name='usage'),\n",
       " Member(type='VkSharingMode', name='sharingMode'),\n",
       " Member(type='uint32_t', name='queueFamilyIndexCount'),\n",
       " Member(type='const uint32_t *', name='pQueueFamilyIndices'),\n",
       " Member(type='VkImageLayout', name='initialLayout')]"
      ]
     },
     "execution_count": 23,
     "metadata": {},
     "output_type": "execute_result"
    }
   ],
   "source": [
    "list_members(ici_node)"
   ]
  },
  {
   "cell_type": "markdown",
   "metadata": {},
   "source": [
    "## Creating a builder for the `*CreateInfo` structs"
   ]
  },
  {
   "cell_type": "code",
   "execution_count": 24,
   "metadata": {},
   "outputs": [],
   "source": [
    "member_defaults = {\n",
    "    member('VkImageFormat', 'format'): \"VK_IMAGE_FORMAT_UNDEFINED\",\n",
    "    member('VkExtent2D', 'extent'): \"{1, 1}\",\n",
    "    member('VkExtent3D', 'extent'): \"{1, 1, 1}\",\n",
    "    member('uint32_t', 'mipLevels'): \"1\",\n",
    "    member('uint32_t', 'arrayLayers'): \"1\",\n",
    "    member('VkSampleCountFlagBits', 'samples'): \"VK_SAMPLE_COUNT_1_BIT\",\n",
    "    member('VkComponentMapping', 'components'): R\"\"\"VkComponentMapping{.r = VK_COMPONENT_SWIZZLE_R,\n",
    "   .g = VK_COMPONENT_SWIZZLE_G,\n",
    "   .b = VK_COMPONENT_SWIZZLE_B,\n",
    "   .a = VK_COMPONENT_SWIZZLE_A}\"\"\"\n",
    "}"
   ]
  },
  {
   "cell_type": "code",
   "execution_count": 25,
   "metadata": {},
   "outputs": [],
   "source": [
    "class builder_builder:\n",
    "    def __init__(self, built_class, node, with_usage = False):\n",
    "        self.name = f\"{built_class}_builder\"\n",
    "        self.built_class = built_class\n",
    "        self.node = node\n",
    "        self.struct_name = self.node.spelling\n",
    "        self.struct_members = list_members(self.node)\n",
    "        self.with_usage = with_usage\n",
    "    \n",
    "    def process_members(self, src):\n",
    "        for member in self.struct_members:\n",
    "            if member.name == 'sType': continue\n",
    "            setter_name = camel_to_snake(member.name, remove_prefixes=True)\n",
    "            mapper = find_vk_mapper(member.type)\n",
    "            src += f\"{self.name}& {setter_name}({mapper.cory_type} {member.name}) noexcept {{\"\n",
    "            with src.indent():\n",
    "                src += f\"info_.{member.name} = {mapper.cory_to_vk(member.name)};\"\n",
    "                src += \"return *this;\"\n",
    "            src += \"}\\n\"          \n",
    "    \n",
    "    def usage_setter(self, src):\n",
    "        if not self.with_usage: return\n",
    "        src += f\"{self.name}& memory_usage(device_memory_usage usage) noexcept {{\"\n",
    "        with src.indent():\n",
    "            src += \"usage_ = usage;\"\n",
    "            src += \"return *this;\"\n",
    "        src += \"}\"\n",
    "        \n",
    "    def name_setter(self, src):\n",
    "        src += f\"{self.name}& name(std::string_view name) noexcept {{\"\n",
    "        with src.indent():\n",
    "            src += \"name_ = name;\"\n",
    "            src += \"return *this;\"\n",
    "        src += \"}\"\n",
    "    \n",
    "    def constructor(self, src):\n",
    "        src += f\"{self.name}(graphics_context& context): ctx_{{context}} {{}}\\n\"\n",
    "\n",
    "    def conversion_operator(self, src):\n",
    "        src += f\"[[nodiscard]] operator {self.built_class}() {{\"\n",
    "        with src.indent():\n",
    "            src += f\"return ctx_.create_{self.built_class}(*this);\"\n",
    "        src += \"}\\n\"\n",
    "        \n",
    "    def create_function(self, src):\n",
    "        src += f\"[[nodiscard]] {self.built_class} create() {{\";\n",
    "        with src.indent():\n",
    "            src += f\"return {self.built_class}(*this);\"\n",
    "        src += \"}\"\n",
    "    \n",
    "    def default_values(self, src):\n",
    "        src += f\".sType = {structure_type_name(self.struct_name)},\"\n",
    "        for m in self.struct_members:\n",
    "            if m in member_defaults:\n",
    "                src += f\".{m.name} = {member_defaults[m]},\"\n",
    "        \n",
    "    def build(self):\n",
    "        src = src_list()\n",
    "        src += f\"class {self.name} {{\"\n",
    "        with src.indent(2):\n",
    "            src += \"public:\"\n",
    "            \n",
    "        with src.indent():\n",
    "            src += f\"friend class {self.built_class};\"\n",
    "            self.constructor(src)\n",
    "            self.process_members(src)\n",
    "            self.usage_setter(src)\n",
    "            self.name_setter(src)\n",
    "            #self.conversion_operator(src)\n",
    "            self.create_function(src)\n",
    "        \n",
    "        with src.indent(2):\n",
    "            src += \"private:\"\n",
    "        with src.indent(4):\n",
    "            src += \"graphics_context& ctx_;\"\n",
    "            src += f\"{self.struct_name} info_{{\"\n",
    "            with src.indent():\n",
    "                self.default_values(src)\n",
    "            src += \"};\"\n",
    "            src += \"std::string_view name_;\"\n",
    "            if self.with_usage:\n",
    "                src += \"device_memory_usage usage_{device_memory_usage::eGpuOnly};\"\n",
    "        src += \"};\"\n",
    "        \n",
    "        return src.src"
   ]
  },
  {
   "cell_type": "code",
   "execution_count": 53,
   "metadata": {},
   "outputs": [],
   "source": [
    "#b = builder_builder(\"image\", vk_structs[\"VkImageCreateInfo\"], with_usage=True)\n",
    "#print(b.build())"
   ]
  },
  {
   "cell_type": "code",
   "execution_count": 52,
   "metadata": {},
   "outputs": [],
   "source": [
    "#print(builder_builder(\"image_view\", vk_structs[\"VkImageViewCreateInfo\"]).build())"
   ]
  },
  {
   "cell_type": "code",
   "execution_count": 50,
   "metadata": {},
   "outputs": [],
   "source": [
    "#print(builder_builder(\"buffer\", vk_structs[\"VkBufferCreateInfo\"], with_usage=True).build())"
   ]
  },
  {
   "cell_type": "code",
   "execution_count": 42,
   "metadata": {},
   "outputs": [],
   "source": [
    "#print(builder_builder(\"instance\", vk_structs[\"VkInstanceCreateInfo\"]).build())"
   ]
  },
  {
   "cell_type": "code",
   "execution_count": 43,
   "metadata": {},
   "outputs": [],
   "source": [
    "#print(builder_builder(\"queue\", vk_structs[\"VkDeviceQueueCreateInfo\"]).build())\n",
    "#print(builder_builder(\"device\", vk_structs[\"VkDeviceCreateInfo\"]).build())"
   ]
  },
  {
   "cell_type": "code",
   "execution_count": 44,
   "metadata": {},
   "outputs": [],
   "source": [
    "#print(builder_builder(\"swapchain\", vk_structs[\"VkSwapchainCreateInfoKHR\"]).build())"
   ]
  },
  {
   "cell_type": "code",
   "execution_count": 45,
   "metadata": {},
   "outputs": [],
   "source": [
    "#print(builder_builder(\"image_view\", vk_structs[\"VkImageViewCreateInfo\"]).build())"
   ]
  },
  {
   "cell_type": "code",
   "execution_count": 46,
   "metadata": {},
   "outputs": [],
   "source": [
    "#print(builder_builder(\"debug_utils_messenger\", vk_structs[\"VkDebugUtilsMessengerCreateInfoEXT\"]).build())"
   ]
  },
  {
   "cell_type": "code",
   "execution_count": 47,
   "metadata": {},
   "outputs": [],
   "source": [
    "#print(builder_builder(\"command_pool\", vk_structs[\"VkCommandPoolCreateInfo\"]).build())"
   ]
  },
  {
   "cell_type": "code",
   "execution_count": 48,
   "metadata": {},
   "outputs": [],
   "source": [
    "#print(builder_builder(\"submit_info\", vk_structs[\"VkSubmitInfo\"]).build())"
   ]
  },
  {
   "cell_type": "code",
   "execution_count": 49,
   "metadata": {},
   "outputs": [],
   "source": [
    "#print(builder_builder(\"command_buffer_allocate_info\", vk_structs[\"VkCommandBufferAllocateInfo\"]).build())"
   ]
  },
  {
   "cell_type": "code",
   "execution_count": 55,
   "metadata": {},
   "outputs": [],
   "source": [
    "#print(builder_builder(\"render_pass\", vk_structs[\"VkRenderPassCreateInfo\"]).build())"
   ]
  },
  {
   "cell_type": "code",
   "execution_count": 58,
   "metadata": {},
   "outputs": [],
   "source": [
    "#print(builder_builder(\"attachment_description\", vk_structs[\"VkAttachmentDescription\"]).build())"
   ]
  },
  {
   "cell_type": "code",
   "execution_count": 59,
   "metadata": {},
   "outputs": [
    {
     "name": "stdout",
     "output_type": "stream",
     "text": [
      "class subpass_description_builder {\n",
      "  public:\n",
      "    friend class subpass_description;\n",
      "    subpass_description_builder(graphics_context& context): ctx_{context} {}\n",
      "\n",
      "    subpass_description_builder& flags(VkSubpassDescriptionFlags flags) noexcept {\n",
      "        info_.flags = flags;\n",
      "        return *this;\n",
      "    }\n",
      "\n",
      "    subpass_description_builder& pipeline_bind_point(VkPipelineBindPoint pipelineBindPoint) noexcept {\n",
      "        info_.pipelineBindPoint = pipelineBindPoint;\n",
      "        return *this;\n",
      "    }\n",
      "\n",
      "    subpass_description_builder& input_attachment_count(uint32_t inputAttachmentCount) noexcept {\n",
      "        info_.inputAttachmentCount = inputAttachmentCount;\n",
      "        return *this;\n",
      "    }\n",
      "\n",
      "    subpass_description_builder& input_attachments(const VkAttachmentReference * pInputAttachments) noexcept {\n",
      "        info_.pInputAttachments = pInputAttachments;\n",
      "        return *this;\n",
      "    }\n",
      "\n",
      "    subpass_description_builder& color_attachment_count(uint32_t colorAttachmentCount) noexcept {\n",
      "        info_.colorAttachmentCount = colorAttachmentCount;\n",
      "        return *this;\n",
      "    }\n",
      "\n",
      "    subpass_description_builder& color_attachments(const VkAttachmentReference * pColorAttachments) noexcept {\n",
      "        info_.pColorAttachments = pColorAttachments;\n",
      "        return *this;\n",
      "    }\n",
      "\n",
      "    subpass_description_builder& resolve_attachments(const VkAttachmentReference * pResolveAttachments) noexcept {\n",
      "        info_.pResolveAttachments = pResolveAttachments;\n",
      "        return *this;\n",
      "    }\n",
      "\n",
      "    subpass_description_builder& depth_stencil_attachment(const VkAttachmentReference * pDepthStencilAttachment) noexcept {\n",
      "        info_.pDepthStencilAttachment = pDepthStencilAttachment;\n",
      "        return *this;\n",
      "    }\n",
      "\n",
      "    subpass_description_builder& preserve_attachment_count(uint32_t preserveAttachmentCount) noexcept {\n",
      "        info_.preserveAttachmentCount = preserveAttachmentCount;\n",
      "        return *this;\n",
      "    }\n",
      "\n",
      "    subpass_description_builder& preserve_attachments(const uint32_t * pPreserveAttachments) noexcept {\n",
      "        info_.pPreserveAttachments = pPreserveAttachments;\n",
      "        return *this;\n",
      "    }\n",
      "\n",
      "    subpass_description_builder& name(std::string_view name) noexcept {\n",
      "        name_ = name;\n",
      "        return *this;\n",
      "    }\n",
      "    [[nodiscard]] subpass_description create() {\n",
      "        return subpass_description(*this);\n",
      "    }\n",
      "  private:\n",
      "    graphics_context& ctx_;\n",
      "    VkSubpassDescription info_{\n",
      "        .sType = VK_STRUCTURE_TYPE_SUBPASS_DESCRIPTION,\n",
      "    };\n",
      "    std::string_view name_;\n",
      "};\n",
      "\n"
     ]
    }
   ],
   "source": [
    "print(builder_builder(\"subpass_description\", vk_structs[\"VkSubpassDescription\"]).build())"
   ]
  },
  {
   "cell_type": "markdown",
   "metadata": {},
   "source": [
    "## Generate enum to_string serializers"
   ]
  },
  {
   "cell_type": "code",
   "execution_count": 37,
   "metadata": {},
   "outputs": [],
   "source": [
    "enum_name = namedtuple(\"EnumName\", [\"type\", \"name\", \"value\"])"
   ]
  },
  {
   "cell_type": "code",
   "execution_count": 38,
   "metadata": {},
   "outputs": [],
   "source": [
    "def list_enum_names(node):\n",
    "    members = []\n",
    "    for n in node.get_children():\n",
    "        members.append(enum_name(n.type.spelling, n.spelling, n.enum_value))\n",
    "    return members"
   ]
  },
  {
   "cell_type": "code",
   "execution_count": 39,
   "metadata": {},
   "outputs": [
    {
     "data": {
      "text/plain": [
       "[EnumName(type='int', name='VK_IMAGE_TILING_OPTIMAL', value=0),\n",
       " EnumName(type='int', name='VK_IMAGE_TILING_LINEAR', value=1),\n",
       " EnumName(type='int', name='VK_IMAGE_TILING_DRM_FORMAT_MODIFIER_EXT', value=1000158000),\n",
       " EnumName(type='int', name='VK_IMAGE_TILING_MAX_ENUM', value=2147483647)]"
      ]
     },
     "execution_count": 39,
     "metadata": {},
     "output_type": "execute_result"
    }
   ],
   "source": [
    "list_enum_names(vk_enums['VkImageTiling'])"
   ]
  },
  {
   "cell_type": "code",
   "execution_count": 40,
   "metadata": {
    "collapsed": true,
    "jupyter": {
     "outputs_hidden": true
    },
    "tags": []
   },
   "outputs": [
    {
     "name": "stdout",
     "output_type": "stream",
     "text": [
      "constexpr std::string_view to_string(VkResult vk_result) noexcept {\n",
      "    switch (vk_result) {\n",
      "        case VK_SUCCESS:\n",
      "            return \"VK_SUCCESS\";\n",
      "        case VK_NOT_READY:\n",
      "            return \"VK_NOT_READY\";\n",
      "        case VK_TIMEOUT:\n",
      "            return \"VK_TIMEOUT\";\n",
      "        case VK_EVENT_SET:\n",
      "            return \"VK_EVENT_SET\";\n",
      "        case VK_EVENT_RESET:\n",
      "            return \"VK_EVENT_RESET\";\n",
      "        case VK_INCOMPLETE:\n",
      "            return \"VK_INCOMPLETE\";\n",
      "        case VK_ERROR_OUT_OF_HOST_MEMORY:\n",
      "            return \"VK_ERROR_OUT_OF_HOST_MEMORY\";\n",
      "        case VK_ERROR_OUT_OF_DEVICE_MEMORY:\n",
      "            return \"VK_ERROR_OUT_OF_DEVICE_MEMORY\";\n",
      "        case VK_ERROR_INITIALIZATION_FAILED:\n",
      "            return \"VK_ERROR_INITIALIZATION_FAILED\";\n",
      "        case VK_ERROR_DEVICE_LOST:\n",
      "            return \"VK_ERROR_DEVICE_LOST\";\n",
      "        case VK_ERROR_MEMORY_MAP_FAILED:\n",
      "            return \"VK_ERROR_MEMORY_MAP_FAILED\";\n",
      "        case VK_ERROR_LAYER_NOT_PRESENT:\n",
      "            return \"VK_ERROR_LAYER_NOT_PRESENT\";\n",
      "        case VK_ERROR_EXTENSION_NOT_PRESENT:\n",
      "            return \"VK_ERROR_EXTENSION_NOT_PRESENT\";\n",
      "        case VK_ERROR_FEATURE_NOT_PRESENT:\n",
      "            return \"VK_ERROR_FEATURE_NOT_PRESENT\";\n",
      "        case VK_ERROR_INCOMPATIBLE_DRIVER:\n",
      "            return \"VK_ERROR_INCOMPATIBLE_DRIVER\";\n",
      "        case VK_ERROR_TOO_MANY_OBJECTS:\n",
      "            return \"VK_ERROR_TOO_MANY_OBJECTS\";\n",
      "        case VK_ERROR_FORMAT_NOT_SUPPORTED:\n",
      "            return \"VK_ERROR_FORMAT_NOT_SUPPORTED\";\n",
      "        case VK_ERROR_FRAGMENTED_POOL:\n",
      "            return \"VK_ERROR_FRAGMENTED_POOL\";\n",
      "        case VK_ERROR_UNKNOWN:\n",
      "            return \"VK_ERROR_UNKNOWN\";\n",
      "        case VK_ERROR_OUT_OF_POOL_MEMORY:\n",
      "            return \"VK_ERROR_OUT_OF_POOL_MEMORY\";\n",
      "        case VK_ERROR_INVALID_EXTERNAL_HANDLE:\n",
      "            return \"VK_ERROR_INVALID_EXTERNAL_HANDLE\";\n",
      "        case VK_ERROR_FRAGMENTATION:\n",
      "            return \"VK_ERROR_FRAGMENTATION\";\n",
      "        case VK_ERROR_INVALID_OPAQUE_CAPTURE_ADDRESS:\n",
      "            return \"VK_ERROR_INVALID_OPAQUE_CAPTURE_ADDRESS\";\n",
      "        case VK_ERROR_SURFACE_LOST_KHR:\n",
      "            return \"VK_ERROR_SURFACE_LOST_KHR\";\n",
      "        case VK_ERROR_NATIVE_WINDOW_IN_USE_KHR:\n",
      "            return \"VK_ERROR_NATIVE_WINDOW_IN_USE_KHR\";\n",
      "        case VK_SUBOPTIMAL_KHR:\n",
      "            return \"VK_SUBOPTIMAL_KHR\";\n",
      "        case VK_ERROR_OUT_OF_DATE_KHR:\n",
      "            return \"VK_ERROR_OUT_OF_DATE_KHR\";\n",
      "        case VK_ERROR_INCOMPATIBLE_DISPLAY_KHR:\n",
      "            return \"VK_ERROR_INCOMPATIBLE_DISPLAY_KHR\";\n",
      "        case VK_ERROR_VALIDATION_FAILED_EXT:\n",
      "            return \"VK_ERROR_VALIDATION_FAILED_EXT\";\n",
      "        case VK_ERROR_INVALID_SHADER_NV:\n",
      "            return \"VK_ERROR_INVALID_SHADER_NV\";\n",
      "        case VK_ERROR_INCOMPATIBLE_VERSION_KHR:\n",
      "            return \"VK_ERROR_INCOMPATIBLE_VERSION_KHR\";\n",
      "        case VK_ERROR_INVALID_DRM_FORMAT_MODIFIER_PLANE_LAYOUT_EXT:\n",
      "            return \"VK_ERROR_INVALID_DRM_FORMAT_MODIFIER_PLANE_LAYOUT_EXT\";\n",
      "        case VK_ERROR_NOT_PERMITTED_EXT:\n",
      "            return \"VK_ERROR_NOT_PERMITTED_EXT\";\n",
      "        case VK_ERROR_FULL_SCREEN_EXCLUSIVE_MODE_LOST_EXT:\n",
      "            return \"VK_ERROR_FULL_SCREEN_EXCLUSIVE_MODE_LOST_EXT\";\n",
      "        case VK_THREAD_IDLE_KHR:\n",
      "            return \"VK_THREAD_IDLE_KHR\";\n",
      "        case VK_THREAD_DONE_KHR:\n",
      "            return \"VK_THREAD_DONE_KHR\";\n",
      "        case VK_OPERATION_DEFERRED_KHR:\n",
      "            return \"VK_OPERATION_DEFERRED_KHR\";\n",
      "        case VK_OPERATION_NOT_DEFERRED_KHR:\n",
      "            return \"VK_OPERATION_NOT_DEFERRED_KHR\";\n",
      "        case VK_PIPELINE_COMPILE_REQUIRED_EXT:\n",
      "            return \"VK_PIPELINE_COMPILE_REQUIRED_EXT\";\n",
      "    }\n",
      "    return \"Unknown VkResult\";\n",
      "}\n",
      "\n",
      "constexpr std::string_view to_string(VkImageTiling vk_image_tiling) noexcept {\n",
      "    switch (vk_image_tiling) {\n",
      "        case VK_IMAGE_TILING_OPTIMAL:\n",
      "            return \"VK_IMAGE_TILING_OPTIMAL\";\n",
      "        case VK_IMAGE_TILING_LINEAR:\n",
      "            return \"VK_IMAGE_TILING_LINEAR\";\n",
      "        case VK_IMAGE_TILING_DRM_FORMAT_MODIFIER_EXT:\n",
      "            return \"VK_IMAGE_TILING_DRM_FORMAT_MODIFIER_EXT\";\n",
      "    }\n",
      "    return \"Unknown VkImageTiling\";\n",
      "}\n",
      "\n"
     ]
    }
   ],
   "source": [
    "def make_to_string_function(node:clang.cindex.Cursor):\n",
    "    src = src_list()\n",
    "    param_name = camel_to_snake(node.spelling);\n",
    "    src += f\"constexpr std::string_view to_string({node.spelling} {param_name}) noexcept {{\"\n",
    "    with src.indent():\n",
    "        src += f\"switch ({param_name}) {{\"\n",
    "        enum_names = list_enum_names(node)\n",
    "        with src.indent():\n",
    "            processed_values = []\n",
    "            for n in enum_names:\n",
    "                if n.value in processed_values: continue\n",
    "                if n.name.endswith('_MAX_ENUM'): continue\n",
    "                processed_values.append(n.value)\n",
    "                \n",
    "                src += f\"case {n.name}:\"\n",
    "                with src.indent():\n",
    "                    src += f\"return \\\"{n.name}\\\";\"\n",
    "        src += \"}\"\n",
    "        src += f\"return \\\"Unknown {node.spelling}\\\";\"\n",
    "    src += \"}\"\n",
    "    \n",
    "    return src.get()\n",
    "\n",
    "print(make_to_string_function(vk_enums['VkResult']))\n",
    "print(make_to_string_function(vk_enums['VkImageTiling']))"
   ]
  },
  {
   "cell_type": "code",
   "execution_count": null,
   "metadata": {},
   "outputs": [],
   "source": [
    "throw;\n",
    "with open('Cory/include/Cory/vk/enum_utils.h', 'w') as f:\n",
    "    f.write(\"\"\"\n",
    "#pragma once\n",
    "\n",
    "#include <fmt/format.h>\n",
    "#include <string_view>\n",
    "#include <vulkan/vulkan.h>\n",
    "\n",
    "namespace cory {\n",
    "namespace vk {\n",
    "\n",
    "\"\"\")\n",
    "    \n",
    "    for enum_node in vk_enums.values():\n",
    "        f.write(make_to_string_function(enum_node))\n",
    "    \n",
    "    f.write(\"\"\"\n",
    "    \n",
    "template <typename VulkanFlagBitsType, typename VulkanFlagsType>\n",
    "std::string flag_bits_to_string(VulkanFlagsType flagBits)\n",
    "{\n",
    "        auto curFlag = (VulkanFlagBitsType)1;\n",
    "    if (!flagBits) return \"( )\";\n",
    "\n",
    "    std::string flagBitsString(\"( \");\n",
    "    while (curFlag) {\n",
    "        if (flagBits & curFlag) { flagBitsString += std::string(to_string((VulkanFlagBitsType)curFlag)) + \" \";\n",
    "        }\n",
    "        curFlag = (VulkanFlagBitsType)(curFlag << 1);\n",
    "    }\n",
    "    return flagBitsString + \")\";\n",
    "}\n",
    "    \n",
    "} // namespace vk\n",
    "} // namespace cory\n",
    "\n",
    "template <> struct fmt::formatter<VkResult> {\n",
    "    constexpr auto parse(format_parse_context &ctx)\n",
    "    {\n",
    "        auto it = ctx.begin(), end = ctx.end();\n",
    "        if (it != end && *it != '}') throw format_error(\"invalid format\");\n",
    "        return ctx.end();\n",
    "    }\n",
    "\n",
    "    template <typename FormatContext, typename VulkanEnumType>\n",
    "    auto format(const VulkanEnumType &e, FormatContext &ctx)\n",
    "    {\n",
    "        return format_to(ctx.out(), cory::vk::to_string(e));\n",
    "    }\n",
    "};\n",
    "\n",
    "\"\"\")\n",
    "    \n",
    "    for ename in vk_enums.keys():\n",
    "        if ename == \"VkResult\": continue\n",
    "        f.write(f\"template <> struct fmt::formatter<{ename}> : fmt::formatter<VkResult> {{}};\\n\")\n",
    "    "
   ]
  },
  {
   "cell_type": "code",
   "execution_count": null,
   "metadata": {},
   "outputs": [],
   "source": []
  },
  {
   "cell_type": "markdown",
   "metadata": {},
   "source": [
    "# Command buffer"
   ]
  },
  {
   "cell_type": "code",
   "execution_count": null,
   "metadata": {},
   "outputs": [],
   "source": [
    "cmdbuf_method_names = {k: camel_to_snake(k[5:]) for k in sorted(vk_funcs.keys()) if k.startswith(\"vkCmd\")}"
   ]
  },
  {
   "cell_type": "code",
   "execution_count": null,
   "metadata": {},
   "outputs": [],
   "source": [
    "func_node = vk_funcs['vkCmdBlitImage']"
   ]
  },
  {
   "cell_type": "code",
   "execution_count": null,
   "metadata": {},
   "outputs": [],
   "source": [
    "def get_function_args(function_node:clang.cindex.Cursor):\n",
    "    return [(a.type.spelling, a.spelling, a) for a in function_node.get_arguments()]"
   ]
  },
  {
   "cell_type": "code",
   "execution_count": null,
   "metadata": {},
   "outputs": [],
   "source": [
    "get_function_args(func_node)"
   ]
  },
  {
   "cell_type": "code",
   "execution_count": null,
   "metadata": {},
   "outputs": [],
   "source": [
    "src = src_list()\n",
    "src >> 4\n",
    "for (vkfunc_name, method) in cmdbuf_method_names.items():\n",
    "    vkfunc = vk_funcs[vkfunc_name]\n",
    "    args = get_function_args(vkfunc)[1:]\n",
    "    \n",
    "    args_list = \", \".join([f\"{t} {n}\" for t,n,_ in args])\n",
    "    arg_names_list = \", \".join([n for t,n,_ in args])\n",
    "    src += f\"command_buffer& {method}({args_list}) {{\"\n",
    "    with src.indent():\n",
    "        src += f\"{vkfunc_name}(cmd_buffer_ptr_.get(), {arg_names_list});\"\n",
    "        src += f\"return *this;\"\n",
    "    src += \"}\\n\"\n",
    "    \n",
    "src << 4;\n",
    "\n",
    "print(src.get())"
   ]
  },
  {
   "cell_type": "code",
   "execution_count": null,
   "metadata": {},
   "outputs": [],
   "source": []
  }
 ],
 "metadata": {
  "kernelspec": {
   "display_name": "Python 3",
   "language": "python",
   "name": "python3"
  },
  "language_info": {
   "codemirror_mode": {
    "name": "ipython",
    "version": 3
   },
   "file_extension": ".py",
   "mimetype": "text/x-python",
   "name": "python",
   "nbconvert_exporter": "python",
   "pygments_lexer": "ipython3",
   "version": "3.8.5"
  }
 },
 "nbformat": 4,
 "nbformat_minor": 4
}
